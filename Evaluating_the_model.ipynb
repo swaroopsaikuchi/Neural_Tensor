{
  "nbformat": 4,
  "nbformat_minor": 0,
  "metadata": {
    "colab": {
      "provenance": [],
      "authorship_tag": "ABX9TyOnMz9wV4bnd7jA9cOU2Ps3",
      "include_colab_link": true
    },
    "kernelspec": {
      "name": "python3",
      "display_name": "Python 3"
    },
    "language_info": {
      "name": "python"
    }
  },
  "cells": [
    {
      "cell_type": "markdown",
      "metadata": {
        "id": "view-in-github",
        "colab_type": "text"
      },
      "source": [
        "<a href=\"https://colab.research.google.com/github/swaroopsaikuchi/Neural_Tensor/blob/main/Evaluating_the_model.ipynb\" target=\"_parent\"><img src=\"https://colab.research.google.com/assets/colab-badge.svg\" alt=\"Open In Colab\"/></a>"
      ]
    },
    {
      "cell_type": "code",
      "execution_count": 82,
      "metadata": {
        "id": "fRfGrjCb0RGx"
      },
      "outputs": [],
      "source": [
        "import tensorflow as tf\n",
        "import matplotlib.pyplot as plt"
      ]
    },
    {
      "cell_type": "code",
      "source": [
        "## evaluating the model\n",
        "## build a model -> fit a model -> evaluate a model  -> tweak  a model\n",
        "x = tf.range(0,150,5)\n",
        "y = x+ 10\n",
        "x , y"
      ],
      "metadata": {
        "colab": {
          "base_uri": "https://localhost:8080/"
        },
        "id": "4qEsAznu6gxc",
        "outputId": "06f1b9c1-ca38-442d-ec2c-4426bf8e9739"
      },
      "execution_count": 83,
      "outputs": [
        {
          "output_type": "execute_result",
          "data": {
            "text/plain": [
              "(<tf.Tensor: shape=(30,), dtype=int32, numpy=\n",
              " array([  0,   5,  10,  15,  20,  25,  30,  35,  40,  45,  50,  55,  60,\n",
              "         65,  70,  75,  80,  85,  90,  95, 100, 105, 110, 115, 120, 125,\n",
              "        130, 135, 140, 145], dtype=int32)>,\n",
              " <tf.Tensor: shape=(30,), dtype=int32, numpy=\n",
              " array([ 10,  15,  20,  25,  30,  35,  40,  45,  50,  55,  60,  65,  70,\n",
              "         75,  80,  85,  90,  95, 100, 105, 110, 115, 120, 125, 130, 135,\n",
              "        140, 145, 150, 155], dtype=int32)>)"
            ]
          },
          "metadata": {},
          "execution_count": 83
        }
      ]
    },
    {
      "cell_type": "code",
      "source": [
        "plt.scatter(x,y)"
      ],
      "metadata": {
        "colab": {
          "base_uri": "https://localhost:8080/",
          "height": 447
        },
        "id": "vwpxAEaP6t3q",
        "outputId": "f3c08505-ec89-4a50-d7e9-7618c6537c01"
      },
      "execution_count": 84,
      "outputs": [
        {
          "output_type": "execute_result",
          "data": {
            "text/plain": [
              "<matplotlib.collections.PathCollection at 0x7955173a1a50>"
            ]
          },
          "metadata": {},
          "execution_count": 84
        },
        {
          "output_type": "display_data",
          "data": {
            "text/plain": [
              "<Figure size 640x480 with 1 Axes>"
            ],
            "image/png": "[encoded data removed]"
          },
          "metadata": {}
        }
      ]
    },
    {
      "cell_type": "code",
      "source": [
        "# lets divide this data into test and train spilt\n",
        "# break this data into 80% for testing and 20% for training\n",
        "x_train = x[:24]\n",
        "y_train = y[:24]\n",
        "x_test = x[24:]\n",
        "y_test = y[24:]\n",
        "x_train, y_train,x_test,y_test"
      ],
      "metadata": {
        "colab": {
          "base_uri": "https://localhost:8080/"
        },
        "id": "u4u4M6eY6-YK",
        "outputId": "5e2a5b8e-95b8-4b6c-c9fd-f6963905f553"
      },
      "execution_count": 85,
      "outputs": [
        {
          "output_type": "execute_result",
          "data": {
            "text/plain": [
              "(<tf.Tensor: shape=(24,), dtype=int32, numpy=\n",
              " array([  0,   5,  10,  15,  20,  25,  30,  35,  40,  45,  50,  55,  60,\n",
              "         65,  70,  75,  80,  85,  90,  95, 100, 105, 110, 115], dtype=int32)>,\n",
              " <tf.Tensor: shape=(24,), dtype=int32, numpy=\n",
              " array([ 10,  15,  20,  25,  30,  35,  40,  45,  50,  55,  60,  65,  70,\n",
              "         75,  80,  85,  90,  95, 100, 105, 110, 115, 120, 125], dtype=int32)>,\n",
              " <tf.Tensor: shape=(6,), dtype=int32, numpy=array([120, 125, 130, 135, 140, 145], dtype=int32)>,\n",
              " <tf.Tensor: shape=(6,), dtype=int32, numpy=array([130, 135, 140, 145, 150, 155], dtype=int32)>)"
            ]
          },
          "metadata": {},
          "execution_count": 85
        }
      ]
    },
    {
      "cell_type": "code",
      "source": [
        "plt.scatter(x_train,y_train),plt.scatter(x_test,y_test)"
      ],
      "metadata": {
        "colab": {
          "base_uri": "https://localhost:8080/",
          "height": 465
        },
        "id": "2zeYxleU8qhR",
        "outputId": "a7fdf7a4-8e50-4201-ce81-c02a887ec2d0"
      },
      "execution_count": 86,
      "outputs": [
        {
          "output_type": "execute_result",
          "data": {
            "text/plain": [
              "(<matplotlib.collections.PathCollection at 0x795516e698d0>,\n",
              " <matplotlib.collections.PathCollection at 0x795516e69d20>)"
            ]
          },
          "metadata": {},
          "execution_count": 86
        },
        {
          "output_type": "display_data",
          "data": {
            "text/plain": [
              "<Figure size 640x480 with 1 Axes>"
            ],
            "image/png": "[encoded data removed]"
          },
          "metadata": {}
        }
      ]
    },
    {
      "cell_type": "code",
      "source": [
        "# lets build a neural network for our model\n",
        "model = tf.keras.Sequential([\n",
        "      tf.keras.layers.Dense(77, name=\"input\"),\n",
        "    tf.keras.layers.Dense(1, name=\"output\")\n",
        "\n",
        "])\n",
        "model.compile(loss = \"mae\",\n",
        "               optimizer = tf.keras.optimizers.SGD(),\n",
        "              metrics = [\"mae\"])\n",
        "model.fit(tf.expand_dims(x_train,axis=-1),y_train,epochs = 100,verbose = 1 )"
      ],
      "metadata": {
        "colab": {
          "base_uri": "https://localhost:8080/"
        },
        "id": "7lD_iFR783uu",
        "outputId": "1c2f742c-27a7-40c5-cffd-4cd6ff945049"
      },
      "execution_count": 87,
      "outputs": [
        {
          "output_type": "stream",
          "name": "stdout",
          "text": [
            "Epoch 1/100\n",
            "1/1 [==============================] - 0s 393ms/step - loss: 56.2426 - mae: 56.2426\n",
            "Epoch 2/100\n",
            "1/1 [==============================] - 0s 13ms/step - loss: 66.7404 - mae: 66.7404\n",
            "Epoch 3/100\n",
            "1/1 [==============================] - 0s 11ms/step - loss: 61.8424 - mae: 61.8424\n",
            "Epoch 4/100\n",
            "1/1 [==============================] - 0s 11ms/step - loss: 6.5884 - mae: 6.5884\n",
            "Epoch 5/100\n",
            "1/1 [==============================] - 0s 11ms/step - loss: 92.9900 - mae: 92.9900\n",
            "Epoch 6/100\n",
            "1/1 [==============================] - 0s 11ms/step - loss: 39.6264 - mae: 39.6264\n",
            "Epoch 7/100\n",
            "1/1 [==============================] - 0s 10ms/step - loss: 8.9374 - mae: 8.9374\n",
            "Epoch 8/100\n",
            "1/1 [==============================] - 0s 9ms/step - loss: 46.6383 - mae: 46.6383\n",
            "Epoch 9/100\n",
            "1/1 [==============================] - 0s 10ms/step - loss: 14.3149 - mae: 14.3149\n",
            "Epoch 10/100\n",
            "1/1 [==============================] - 0s 9ms/step - loss: 65.7886 - mae: 65.7886\n",
            "Epoch 11/100\n",
            "1/1 [==============================] - 0s 10ms/step - loss: 43.1854 - mae: 43.1854\n",
            "Epoch 12/100\n",
            "1/1 [==============================] - 0s 9ms/step - loss: 7.0982 - mae: 7.0982\n",
            "Epoch 13/100\n",
            "1/1 [==============================] - 0s 9ms/step - loss: 83.3037 - mae: 83.3037\n",
            "Epoch 14/100\n",
            "1/1 [==============================] - 0s 9ms/step - loss: 39.8834 - mae: 39.8834\n",
            "Epoch 15/100\n",
            "1/1 [==============================] - 0s 9ms/step - loss: 5.7274 - mae: 5.7274\n",
            "Epoch 16/100\n",
            "1/1 [==============================] - 0s 10ms/step - loss: 38.1682 - mae: 38.1682\n",
            "Epoch 17/100\n",
            "1/1 [==============================] - 0s 11ms/step - loss: 8.7455 - mae: 8.7455\n",
            "Epoch 18/100\n",
            "1/1 [==============================] - 0s 9ms/step - loss: 46.1266 - mae: 46.1266\n",
            "Epoch 19/100\n",
            "1/1 [==============================] - 0s 9ms/step - loss: 14.5511 - mae: 14.5511\n",
            "Epoch 20/100\n",
            "1/1 [==============================] - 0s 9ms/step - loss: 64.8799 - mae: 64.8799\n",
            "Epoch 21/100\n",
            "1/1 [==============================] - 0s 9ms/step - loss: 43.2723 - mae: 43.2723\n",
            "Epoch 22/100\n",
            "1/1 [==============================] - 0s 9ms/step - loss: 7.4884 - mae: 7.4884\n",
            "Epoch 23/100\n",
            "1/1 [==============================] - 0s 10ms/step - loss: 82.2541 - mae: 82.2541\n",
            "Epoch 24/100\n",
            "1/1 [==============================] - 0s 9ms/step - loss: 40.0394 - mae: 40.0394\n",
            "Epoch 25/100\n",
            "1/1 [==============================] - 0s 12ms/step - loss: 5.4249 - mae: 5.4249\n",
            "Epoch 26/100\n",
            "1/1 [==============================] - 0s 10ms/step - loss: 38.3360 - mae: 38.3360\n",
            "Epoch 27/100\n",
            "1/1 [==============================] - 0s 11ms/step - loss: 8.3388 - mae: 8.3388\n",
            "Epoch 28/100\n",
            "1/1 [==============================] - 0s 11ms/step - loss: 46.2359 - mae: 46.2359\n",
            "Epoch 29/100\n",
            "1/1 [==============================] - 0s 10ms/step - loss: 14.8816 - mae: 14.8816\n",
            "Epoch 30/100\n",
            "1/1 [==============================] - 0s 18ms/step - loss: 63.9981 - mae: 63.9981\n",
            "Epoch 31/100\n",
            "1/1 [==============================] - 0s 10ms/step - loss: 43.4011 - mae: 43.4011\n",
            "Epoch 32/100\n",
            "1/1 [==============================] - 0s 8ms/step - loss: 7.8659 - mae: 7.8659\n",
            "Epoch 33/100\n",
            "1/1 [==============================] - 0s 9ms/step - loss: 81.2563 - mae: 81.2563\n",
            "Epoch 34/100\n",
            "1/1 [==============================] - 0s 9ms/step - loss: 40.1896 - mae: 40.1896\n",
            "Epoch 35/100\n",
            "1/1 [==============================] - 0s 10ms/step - loss: 5.1657 - mae: 5.1657\n",
            "Epoch 36/100\n",
            "1/1 [==============================] - 0s 17ms/step - loss: 34.3058 - mae: 34.3058\n",
            "Epoch 37/100\n",
            "1/1 [==============================] - 0s 13ms/step - loss: 16.9742 - mae: 16.9742\n",
            "Epoch 38/100\n",
            "1/1 [==============================] - 0s 9ms/step - loss: 49.4988 - mae: 49.4988\n",
            "Epoch 39/100\n",
            "1/1 [==============================] - 0s 9ms/step - loss: 23.0320 - mae: 23.0320\n",
            "Epoch 40/100\n",
            "1/1 [==============================] - 0s 9ms/step - loss: 43.9156 - mae: 43.9156\n",
            "Epoch 41/100\n",
            "1/1 [==============================] - 0s 17ms/step - loss: 46.3062 - mae: 46.3062\n",
            "Epoch 42/100\n",
            "1/1 [==============================] - 0s 16ms/step - loss: 15.1299 - mae: 15.1299\n",
            "Epoch 43/100\n",
            "1/1 [==============================] - 0s 17ms/step - loss: 63.3009 - mae: 63.3009\n",
            "Epoch 44/100\n",
            "1/1 [==============================] - 0s 18ms/step - loss: 43.4863 - mae: 43.4863\n",
            "Epoch 45/100\n",
            "1/1 [==============================] - 0s 15ms/step - loss: 8.1514 - mae: 8.1514\n",
            "Epoch 46/100\n",
            "1/1 [==============================] - 0s 14ms/step - loss: 80.4674 - mae: 80.4674\n",
            "Epoch 47/100\n",
            "1/1 [==============================] - 0s 19ms/step - loss: 40.2917 - mae: 40.2917\n",
            "Epoch 48/100\n",
            "1/1 [==============================] - 0s 17ms/step - loss: 4.9588 - mae: 4.9588\n",
            "Epoch 49/100\n",
            "1/1 [==============================] - 0s 16ms/step - loss: 34.4367 - mae: 34.4367\n",
            "Epoch 50/100\n",
            "1/1 [==============================] - 0s 17ms/step - loss: 16.5799 - mae: 16.5799\n",
            "Epoch 51/100\n",
            "1/1 [==============================] - 0s 17ms/step - loss: 49.5446 - mae: 49.5446\n",
            "Epoch 52/100\n",
            "1/1 [==============================] - 0s 21ms/step - loss: 23.2196 - mae: 23.2196\n",
            "Epoch 53/100\n",
            "1/1 [==============================] - 0s 13ms/step - loss: 43.3708 - mae: 43.3708\n",
            "Epoch 54/100\n",
            "1/1 [==============================] - 0s 12ms/step - loss: 46.3676 - mae: 46.3676\n",
            "Epoch 55/100\n",
            "1/1 [==============================] - 0s 13ms/step - loss: 15.3563 - mae: 15.3563\n",
            "Epoch 56/100\n",
            "1/1 [==============================] - 0s 13ms/step - loss: 62.6577 - mae: 62.6577\n",
            "Epoch 57/100\n",
            "1/1 [==============================] - 0s 19ms/step - loss: 43.5615 - mae: 43.5615\n",
            "Epoch 58/100\n",
            "1/1 [==============================] - 0s 11ms/step - loss: 8.4120 - mae: 8.4120\n",
            "Epoch 59/100\n",
            "1/1 [==============================] - 0s 9ms/step - loss: 79.7394 - mae: 79.7394\n",
            "Epoch 60/100\n",
            "1/1 [==============================] - 0s 9ms/step - loss: 40.3826 - mae: 40.3826\n",
            "Epoch 61/100\n",
            "1/1 [==============================] - 0s 9ms/step - loss: 4.7788 - mae: 4.7788\n",
            "Epoch 62/100\n",
            "1/1 [==============================] - 0s 9ms/step - loss: 29.7135 - mae: 29.7135\n",
            "Epoch 63/100\n",
            "1/1 [==============================] - 0s 9ms/step - loss: 27.5778 - mae: 27.5778\n",
            "Epoch 64/100\n",
            "1/1 [==============================] - 0s 9ms/step - loss: 48.3938 - mae: 48.3938\n",
            "Epoch 65/100\n",
            "1/1 [==============================] - 0s 9ms/step - loss: 20.4387 - mae: 20.4387\n",
            "Epoch 66/100\n",
            "1/1 [==============================] - 0s 9ms/step - loss: 50.0771 - mae: 50.0771\n",
            "Epoch 67/100\n",
            "1/1 [==============================] - 0s 9ms/step - loss: 45.8623 - mae: 45.8623\n",
            "Epoch 68/100\n",
            "1/1 [==============================] - 0s 10ms/step - loss: 14.1755 - mae: 14.1755\n",
            "Epoch 69/100\n",
            "1/1 [==============================] - 0s 9ms/step - loss: 65.4815 - mae: 65.4815\n",
            "Epoch 70/100\n",
            "1/1 [==============================] - 0s 8ms/step - loss: 42.9944 - mae: 42.9944\n",
            "Epoch 71/100\n",
            "1/1 [==============================] - 0s 9ms/step - loss: 7.0778 - mae: 7.0778\n",
            "Epoch 72/100\n",
            "1/1 [==============================] - 0s 9ms/step - loss: 82.9408 - mae: 82.9408\n",
            "Epoch 73/100\n",
            "1/1 [==============================] - 0s 9ms/step - loss: 39.7453 - mae: 39.7453\n",
            "Epoch 74/100\n",
            "1/1 [==============================] - 0s 9ms/step - loss: 5.5600 - mae: 5.5600\n",
            "Epoch 75/100\n",
            "1/1 [==============================] - 0s 9ms/step - loss: 38.0209 - mae: 38.0209\n",
            "Epoch 76/100\n",
            "1/1 [==============================] - 0s 9ms/step - loss: 8.6169 - mae: 8.6169\n",
            "Epoch 77/100\n",
            "1/1 [==============================] - 0s 9ms/step - loss: 45.9443 - mae: 45.9443\n",
            "Epoch 78/100\n",
            "1/1 [==============================] - 0s 9ms/step - loss: 14.4370 - mae: 14.4370\n",
            "Epoch 79/100\n",
            "1/1 [==============================] - 0s 9ms/step - loss: 64.7700 - mae: 64.7700\n",
            "Epoch 80/100\n",
            "1/1 [==============================] - 0s 10ms/step - loss: 43.0916 - mae: 43.0916\n",
            "Epoch 81/100\n",
            "1/1 [==============================] - 0s 9ms/step - loss: 7.3771 - mae: 7.3771\n",
            "Epoch 82/100\n",
            "1/1 [==============================] - 0s 10ms/step - loss: 82.1359 - mae: 82.1359\n",
            "Epoch 83/100\n",
            "1/1 [==============================] - 0s 9ms/step - loss: 39.8597 - mae: 39.8597\n",
            "Epoch 84/100\n",
            "1/1 [==============================] - 0s 10ms/step - loss: 5.3254 - mae: 5.3254\n",
            "Epoch 85/100\n",
            "1/1 [==============================] - 0s 9ms/step - loss: 38.1415 - mae: 38.1415\n",
            "Epoch 86/100\n",
            "1/1 [==============================] - 0s 9ms/step - loss: 8.3059 - mae: 8.3059\n",
            "Epoch 87/100\n",
            "1/1 [==============================] - 0s 9ms/step - loss: 46.0189 - mae: 46.0189\n",
            "Epoch 88/100\n",
            "1/1 [==============================] - 0s 9ms/step - loss: 14.6801 - mae: 14.6801\n",
            "Epoch 89/100\n",
            "1/1 [==============================] - 0s 9ms/step - loss: 64.1035 - mae: 64.1035\n",
            "Epoch 90/100\n",
            "1/1 [==============================] - 0s 9ms/step - loss: 43.1805 - mae: 43.1805\n",
            "Epoch 91/100\n",
            "1/1 [==============================] - 0s 9ms/step - loss: 7.6556 - mae: 7.6556\n",
            "Epoch 92/100\n",
            "1/1 [==============================] - 0s 9ms/step - loss: 81.3821 - mae: 81.3821\n",
            "Epoch 93/100\n",
            "1/1 [==============================] - 0s 9ms/step - loss: 39.9647 - mae: 39.9647\n",
            "Epoch 94/100\n",
            "1/1 [==============================] - 0s 10ms/step - loss: 5.1150 - mae: 5.1150\n",
            "Epoch 95/100\n",
            "1/1 [==============================] - 0s 9ms/step - loss: 34.0624 - mae: 34.0624\n",
            "Epoch 96/100\n",
            "1/1 [==============================] - 0s 9ms/step - loss: 17.1091 - mae: 17.1091\n",
            "Epoch 97/100\n",
            "1/1 [==============================] - 0s 9ms/step - loss: 49.2535 - mae: 49.2535\n",
            "Epoch 98/100\n",
            "1/1 [==============================] - 0s 9ms/step - loss: 22.7602 - mae: 22.7602\n",
            "Epoch 99/100\n",
            "1/1 [==============================] - 0s 9ms/step - loss: 44.1672 - mae: 44.1672\n",
            "Epoch 100/100\n",
            "1/1 [==============================] - 0s 9ms/step - loss: 46.0510 - mae: 46.0510\n"
          ]
        },
        {
          "output_type": "execute_result",
          "data": {
            "text/plain": [
              "<keras.src.callbacks.History at 0x795516df6800>"
            ]
          },
          "metadata": {},
          "execution_count": 87
        }
      ]
    },
    {
      "cell_type": "code",
      "source": [
        "model.summary()"
      ],
      "metadata": {
        "colab": {
          "base_uri": "https://localhost:8080/"
        },
        "id": "_U5nmNk09tyR",
        "outputId": "c0c7ad60-49f7-4bcb-c33f-30b0be82eb65"
      },
      "execution_count": 88,
      "outputs": [
        {
          "output_type": "stream",
          "name": "stdout",
          "text": [
            "Model: \"sequential_11\"\n",
            "_________________________________________________________________\n",
            " Layer (type)                Output Shape              Param #   \n",
            "=================================================================\n",
            " input (Dense)               (None, 77)                154       \n",
            "                                                                 \n",
            " output (Dense)              (None, 1)                 78        \n",
            "                                                                 \n",
            "=================================================================\n",
            "Total params: 232 (928.00 Byte)\n",
            "Trainable params: 232 (928.00 Byte)\n",
            "Non-trainable params: 0 (0.00 Byte)\n",
            "_________________________________________________________________\n"
          ]
        }
      ]
    },
    {
      "cell_type": "code",
      "source": [
        "from tensorflow.keras.utils import plot_model\n",
        "plot_model(model=model,show_shapes=True)"
      ],
      "metadata": {
        "colab": {
          "base_uri": "https://localhost:8080/",
          "height": 312
        },
        "id": "wu9UkUuFCLNJ",
        "outputId": "63f0f026-be5a-454b-81df-d7ed4a9b8e69"
      },
      "execution_count": 89,
      "outputs": [
        {
          "output_type": "execute_result",
          "data": {
            "image/png": "[encoded data removed]",
            "text/plain": [
              "<IPython.core.display.Image object>"
            ]
          },
          "metadata": {},
          "execution_count": 89
        }
      ]
    },
    {
      "cell_type": "code",
      "source": [
        "# visualize our model's predictions\n",
        "# we will do some predictions\n",
        "y_pred = model.predict(x_test)\n",
        "y_pred"
      ],
      "metadata": {
        "colab": {
          "base_uri": "https://localhost:8080/"
        },
        "id": "m4UsM7f8DjbL",
        "outputId": "158a278a-6257-4ee5-a6c1-00e8bd70bde2"
      },
      "execution_count": 90,
      "outputs": [
        {
          "output_type": "stream",
          "name": "stderr",
          "text": [
            "WARNING:tensorflow:5 out of the last 13 calls to <function Model.make_predict_function.<locals>.predict_function at 0x795516b716c0> triggered tf.function retracing. Tracing is expensive and the excessive number of tracings could be due to (1) creating @tf.function repeatedly in a loop, (2) passing tensors with different shapes, (3) passing Python objects instead of tensors. For (1), please define your @tf.function outside of the loop. For (2), @tf.function has reduce_retracing=True option that can avoid unnecessary retracing. For (3), please refer to https://www.tensorflow.org/guide/function#controlling_retracing and https://www.tensorflow.org/api_docs/python/tf/function for  more details.\n"
          ]
        },
        {
          "output_type": "stream",
          "name": "stdout",
          "text": [
            "1/1 [==============================] - 0s 71ms/step\n"
          ]
        },
        {
          "output_type": "execute_result",
          "data": {
            "text/plain": [
              "array([[109.34562],\n",
              "       [113.87997],\n",
              "       [118.41432],\n",
              "       [122.94867],\n",
              "       [127.48301],\n",
              "       [132.01738]], dtype=float32)"
            ]
          },
          "metadata": {},
          "execution_count": 90
        }
      ]
    },
    {
      "cell_type": "code",
      "source": [
        "y_test,y_train"
      ],
      "metadata": {
        "colab": {
          "base_uri": "https://localhost:8080/"
        },
        "id": "gQJD-aoAGZSh",
        "outputId": "d4738679-5afe-4c4b-d3aa-e1ec13abcdc7"
      },
      "execution_count": 91,
      "outputs": [
        {
          "output_type": "execute_result",
          "data": {
            "text/plain": [
              "(<tf.Tensor: shape=(6,), dtype=int32, numpy=array([130, 135, 140, 145, 150, 155], dtype=int32)>,\n",
              " <tf.Tensor: shape=(24,), dtype=int32, numpy=\n",
              " array([ 10,  15,  20,  25,  30,  35,  40,  45,  50,  55,  60,  65,  70,\n",
              "         75,  80,  85,  90,  95, 100, 105, 110, 115, 120, 125], dtype=int32)>)"
            ]
          },
          "metadata": {},
          "execution_count": 91
        }
      ]
    },
    {
      "cell_type": "code",
      "source": [
        "def plot(x_train,y_train,x_test,y_test,y_pred):\n",
        "  plt.scatter(x_train,y_train), plt.scatter(x_test,y_test), plt.scatter(y_test,y_pred,c=\"r\")"
      ],
      "metadata": {
        "id": "vicH34oIGz1z"
      },
      "execution_count": 92,
      "outputs": []
    },
    {
      "cell_type": "code",
      "source": [
        "plot(x_train,y_train,x_test,y_test,y_pred)"
      ],
      "metadata": {
        "colab": {
          "base_uri": "https://localhost:8080/",
          "height": 430
        },
        "id": "nxGlLwebHNdo",
        "outputId": "878accd3-16b8-42ae-ed8f-7d10ad2c2c9e"
      },
      "execution_count": 93,
      "outputs": [
        {
          "output_type": "display_data",
          "data": {
            "text/plain": [
              "<Figure size 640x480 with 1 Axes>"
            ],
            "image/png": "[encoded data removed]"
          },
          "metadata": {}
        }
      ]
    },
    {
      "cell_type": "markdown",
      "source": [
        "Evaluating our model predictions with regression evaluation metrics\n",
        "since we are working on regression , we have mainly two evaluation metrics\n",
        "1. Mean absolute error(MAE)\n",
        "2. Mean squared error (MSE)"
      ],
      "metadata": {
        "id": "sUsbDWdsH6sP"
      }
    },
    {
      "cell_type": "code",
      "source": [
        "# evaluate the model on the test data\n",
        "model.evaluate(x_test,y_test)"
      ],
      "metadata": {
        "colab": {
          "base_uri": "https://localhost:8080/"
        },
        "id": "eJKPbyEmIDwc",
        "outputId": "998589c2-1e7b-40c5-a7ac-1aee5a51aa4b"
      },
      "execution_count": 94,
      "outputs": [
        {
          "output_type": "stream",
          "name": "stdout",
          "text": [
            "1/1 [==============================] - 0s 118ms/step - loss: 21.8185 - mae: 21.8185\n"
          ]
        },
        {
          "output_type": "execute_result",
          "data": {
            "text/plain": [
              "[21.818506240844727, 21.818506240844727]"
            ]
          },
          "metadata": {},
          "execution_count": 94
        }
      ]
    },
    {
      "cell_type": "code",
      "source": [
        "tf.keras.losses.mae(y_test,y_pred)"
      ],
      "metadata": {
        "colab": {
          "base_uri": "https://localhost:8080/"
        },
        "id": "8fFhgdpuLQEs",
        "outputId": "1e0e4db1-ebc8-44bb-967d-3a87c80433aa"
      },
      "execution_count": 95,
      "outputs": [
        {
          "output_type": "execute_result",
          "data": {
            "text/plain": [
              "<tf.Tensor: shape=(6,), dtype=float32, numpy=\n",
              "array([33.154385, 28.620031, 24.085678, 19.55133 , 15.016991, 11.15508 ],\n",
              "      dtype=float32)>"
            ]
          },
          "metadata": {},
          "execution_count": 95
        }
      ]
    },
    {
      "cell_type": "code",
      "source": [
        "y_test"
      ],
      "metadata": {
        "colab": {
          "base_uri": "https://localhost:8080/"
        },
        "id": "nmvmbUguMBY1",
        "outputId": "d4073ef9-676a-4d54-9595-de6f2032b664"
      },
      "execution_count": 96,
      "outputs": [
        {
          "output_type": "execute_result",
          "data": {
            "text/plain": [
              "<tf.Tensor: shape=(6,), dtype=int32, numpy=array([130, 135, 140, 145, 150, 155], dtype=int32)>"
            ]
          },
          "metadata": {},
          "execution_count": 96
        }
      ]
    },
    {
      "cell_type": "code",
      "source": [
        "y_pred"
      ],
      "metadata": {
        "colab": {
          "base_uri": "https://localhost:8080/"
        },
        "id": "N11Vn8sLMBfJ",
        "outputId": "ec9c45e5-e80d-4e5c-8110-923c20f76bf8"
      },
      "execution_count": 97,
      "outputs": [
        {
          "output_type": "execute_result",
          "data": {
            "text/plain": [
              "array([[109.34562],\n",
              "       [113.87997],\n",
              "       [118.41432],\n",
              "       [122.94867],\n",
              "       [127.48301],\n",
              "       [132.01738]], dtype=float32)"
            ]
          },
          "metadata": {},
          "execution_count": 97
        }
      ]
    },
    {
      "cell_type": "code",
      "source": [
        "mae = tf.metrics.mean_absolute_error(y_test,y_pred)\n",
        "mae"
      ],
      "metadata": {
        "colab": {
          "base_uri": "https://localhost:8080/"
        },
        "id": "DrrvRw7kMNid",
        "outputId": "ca031860-eeb6-4479-8993-131fa93f633c"
      },
      "execution_count": 98,
      "outputs": [
        {
          "output_type": "execute_result",
          "data": {
            "text/plain": [
              "<tf.Tensor: shape=(6,), dtype=float32, numpy=\n",
              "array([33.154385, 28.620031, 24.085678, 19.55133 , 15.016991, 11.15508 ],\n",
              "      dtype=float32)>"
            ]
          },
          "metadata": {},
          "execution_count": 98
        }
      ]
    },
    {
      "cell_type": "markdown",
      "source": [
        "If we have different shapes then we should change it by tf.squeeze function"
      ],
      "metadata": {
        "id": "DDcvnp9_NTKS"
      }
    },
    {
      "cell_type": "code",
      "source": [
        "# calculate the mean absolute error\n",
        "mae = tf. metrics.mean_absolute_error(y_test,y_pred)\n",
        "mae"
      ],
      "metadata": {
        "colab": {
          "base_uri": "https://localhost:8080/"
        },
        "id": "ZqKIa4e6JaCI",
        "outputId": "1a81f147-19a7-4358-f0db-8946d9abf17c"
      },
      "execution_count": 99,
      "outputs": [
        {
          "output_type": "execute_result",
          "data": {
            "text/plain": [
              "<tf.Tensor: shape=(6,), dtype=float32, numpy=\n",
              "array([33.154385, 28.620031, 24.085678, 19.55133 , 15.016991, 11.15508 ],\n",
              "      dtype=float32)>"
            ]
          },
          "metadata": {},
          "execution_count": 99
        }
      ]
    },
    {
      "cell_type": "markdown",
      "source": [
        "Calculating Mean square Error"
      ],
      "metadata": {
        "id": "GDilqNCdNt0_"
      }
    },
    {
      "cell_type": "code",
      "source": [
        "mse = tf.metrics.mean_squared_error(y_test,y_pred)\n",
        "mse"
      ],
      "metadata": {
        "colab": {
          "base_uri": "https://localhost:8080/"
        },
        "id": "c3HHaxgDNxCh",
        "outputId": "93743948-a557-485c-8839-3cba1c6b56b1"
      },
      "execution_count": 100,
      "outputs": [
        {
          "output_type": "execute_result",
          "data": {
            "text/plain": [
              "<tf.Tensor: shape=(6,), dtype=float32, numpy=\n",
              "array([1172.1298 ,  892.02295,  653.03656,  455.17117,  298.42667,\n",
              "        182.802  ], dtype=float32)>"
            ]
          },
          "metadata": {},
          "execution_count": 100
        }
      ]
    },
    {
      "cell_type": "code",
      "source": [
        "def mae(y_test,y_pred):\n",
        "  return tf.metrics.mean_absolute_error(y_test,y_pred)\n",
        "def mse(y_test,y_pred):\n",
        "  return tf.metrics.mean_squared_error(y_test,y_pred)"
      ],
      "metadata": {
        "id": "WosqSQt1OxDx"
      },
      "execution_count": 101,
      "outputs": []
    },
    {
      "cell_type": "markdown",
      "source": [
        "To Improve our regression model performance we can change the following parameters :\n",
        "1. get more data\n",
        "2. make your model larger\n",
        "3. train for longer\n",
        "lets do three modelling experiments\n",
        "**model1** : 1 layer trained for 500 epochs\n",
        "\n",
        "**model2** : 2 layer trained for 100 epochs\n",
        "\n",
        "**model3** : 3 layer trained for 500 epochs\n"
      ],
      "metadata": {
        "id": "QicTJQE0PQRO"
      }
    },
    {
      "cell_type": "code",
      "source": [
        "## model_1\n",
        "model_1 = tf.keras.Sequential([\n",
        "    tf.keras.layers.Dense(1000),\n",
        "    tf.keras.layers.Dense(1)\n",
        "])\n",
        "model_1.compile(loss = \"mae\",\n",
        "                optimizer = tf.keras.optimizers.SGD(),\n",
        "                metrics = [\"mae\"])\n",
        "model_1.fit(tf.expand_dims(x_train,axis=-1),y_train,epochs = 100)"
      ],
      "metadata": {
        "colab": {
          "base_uri": "https://localhost:8080/"
        },
        "id": "9eV52b00Pcox",
        "outputId": "dde58193-6dd5-4275-d5ac-d2052190dd52"
      },
      "execution_count": 102,
      "outputs": [
        {
          "output_type": "stream",
          "name": "stdout",
          "text": [
            "Epoch 1/100\n",
            "1/1 [==============================] - 0s 405ms/step - loss: 68.9802 - mae: 68.9802\n",
            "Epoch 2/100\n",
            "1/1 [==============================] - 0s 10ms/step - loss: 66.1636 - mae: 66.1636\n",
            "Epoch 3/100\n",
            "1/1 [==============================] - 0s 10ms/step - loss: 67.5092 - mae: 67.5092\n",
            "Epoch 4/100\n",
            "1/1 [==============================] - 0s 10ms/step - loss: 6.8261 - mae: 6.8261\n",
            "Epoch 5/100\n",
            "1/1 [==============================] - 0s 10ms/step - loss: 94.8816 - mae: 94.8816\n",
            "Epoch 6/100\n",
            "1/1 [==============================] - 0s 9ms/step - loss: 39.7227 - mae: 39.7227\n",
            "Epoch 7/100\n",
            "1/1 [==============================] - 0s 8ms/step - loss: 9.6324 - mae: 9.6324\n",
            "Epoch 8/100\n",
            "1/1 [==============================] - 0s 9ms/step - loss: 46.5421 - mae: 46.5421\n",
            "Epoch 9/100\n",
            "1/1 [==============================] - 0s 10ms/step - loss: 13.6489 - mae: 13.6489\n",
            "Epoch 10/100\n",
            "1/1 [==============================] - 0s 11ms/step - loss: 67.5051 - mae: 67.5051\n",
            "Epoch 11/100\n",
            "1/1 [==============================] - 0s 16ms/step - loss: 42.8807 - mae: 42.8807\n",
            "Epoch 12/100\n",
            "1/1 [==============================] - 0s 9ms/step - loss: 6.3079 - mae: 6.3079\n",
            "Epoch 13/100\n",
            "1/1 [==============================] - 0s 11ms/step - loss: 85.2560 - mae: 85.2560\n",
            "Epoch 14/100\n",
            "1/1 [==============================] - 0s 8ms/step - loss: 39.5222 - mae: 39.5222\n",
            "Epoch 15/100\n",
            "1/1 [==============================] - 0s 11ms/step - loss: 6.2944 - mae: 6.2944\n",
            "Epoch 16/100\n",
            "1/1 [==============================] - 0s 10ms/step - loss: 41.4437 - mae: 41.4437\n",
            "Epoch 17/100\n",
            "1/1 [==============================] - 0s 10ms/step - loss: 4.2323 - mae: 4.2323\n",
            "Epoch 18/100\n",
            "1/1 [==============================] - 0s 10ms/step - loss: 4.3692 - mae: 4.3692\n",
            "Epoch 19/100\n",
            "1/1 [==============================] - 0s 11ms/step - loss: 28.2358 - mae: 28.2358\n",
            "Epoch 20/100\n",
            "1/1 [==============================] - 0s 11ms/step - loss: 48.4111 - mae: 48.4111\n",
            "Epoch 21/100\n",
            "1/1 [==============================] - 0s 9ms/step - loss: 20.2286 - mae: 20.2286\n",
            "Epoch 22/100\n",
            "1/1 [==============================] - 0s 11ms/step - loss: 50.8848 - mae: 50.8848\n",
            "Epoch 23/100\n",
            "1/1 [==============================] - 0s 10ms/step - loss: 45.8619 - mae: 45.8619\n",
            "Epoch 24/100\n",
            "1/1 [==============================] - 0s 10ms/step - loss: 13.9227 - mae: 13.9227\n",
            "Epoch 25/100\n",
            "1/1 [==============================] - 0s 9ms/step - loss: 66.3951 - mae: 66.3951\n",
            "Epoch 26/100\n",
            "1/1 [==============================] - 0s 9ms/step - loss: 42.9747 - mae: 42.9747\n",
            "Epoch 27/100\n",
            "1/1 [==============================] - 0s 9ms/step - loss: 6.7773 - mae: 6.7773\n",
            "Epoch 28/100\n",
            "1/1 [==============================] - 0s 9ms/step - loss: 83.9729 - mae: 83.9729\n",
            "Epoch 29/100\n",
            "1/1 [==============================] - 0s 9ms/step - loss: 39.7040 - mae: 39.7040\n",
            "Epoch 30/100\n",
            "1/1 [==============================] - 0s 10ms/step - loss: 5.8938 - mae: 5.8938\n",
            "Epoch 31/100\n",
            "1/1 [==============================] - 0s 10ms/step - loss: 37.9788 - mae: 37.9788\n",
            "Epoch 32/100\n",
            "1/1 [==============================] - 0s 10ms/step - loss: 9.0096 - mae: 9.0096\n",
            "Epoch 33/100\n",
            "1/1 [==============================] - 0s 10ms/step - loss: 45.9693 - mae: 45.9693\n",
            "Epoch 34/100\n",
            "1/1 [==============================] - 0s 9ms/step - loss: 14.2474 - mae: 14.2474\n",
            "Epoch 35/100\n",
            "1/1 [==============================] - 0s 9ms/step - loss: 65.5277 - mae: 65.5277\n",
            "Epoch 36/100\n",
            "1/1 [==============================] - 0s 10ms/step - loss: 43.1008 - mae: 43.1008\n",
            "Epoch 37/100\n",
            "1/1 [==============================] - 0s 10ms/step - loss: 7.1481 - mae: 7.1481\n",
            "Epoch 38/100\n",
            "1/1 [==============================] - 0s 9ms/step - loss: 82.9916 - mae: 82.9916\n",
            "Epoch 39/100\n",
            "1/1 [==============================] - 0s 8ms/step - loss: 39.8511 - mae: 39.8511\n",
            "Epoch 40/100\n",
            "1/1 [==============================] - 0s 8ms/step - loss: 5.6102 - mae: 5.6102\n",
            "Epoch 41/100\n",
            "1/1 [==============================] - 0s 8ms/step - loss: 38.1342 - mae: 38.1342\n",
            "Epoch 42/100\n",
            "1/1 [==============================] - 0s 10ms/step - loss: 8.6299 - mae: 8.6299\n",
            "Epoch 43/100\n",
            "1/1 [==============================] - 0s 11ms/step - loss: 46.0692 - mae: 46.0692\n",
            "Epoch 44/100\n",
            "1/1 [==============================] - 0s 12ms/step - loss: 14.5531 - mae: 14.5531\n",
            "Epoch 45/100\n",
            "1/1 [==============================] - 0s 12ms/step - loss: 64.7072 - mae: 64.7072\n",
            "Epoch 46/100\n",
            "1/1 [==============================] - 0s 9ms/step - loss: 43.2183 - mae: 43.2183\n",
            "Epoch 47/100\n",
            "1/1 [==============================] - 0s 9ms/step - loss: 7.4975 - mae: 7.4975\n",
            "Epoch 48/100\n",
            "1/1 [==============================] - 0s 9ms/step - loss: 82.0634 - mae: 82.0634\n",
            "Epoch 49/100\n",
            "1/1 [==============================] - 0s 10ms/step - loss: 39.9885 - mae: 39.9885\n",
            "Epoch 50/100\n",
            "1/1 [==============================] - 0s 10ms/step - loss: 5.3414 - mae: 5.3414\n",
            "Epoch 51/100\n",
            "1/1 [==============================] - 0s 9ms/step - loss: 38.2791 - mae: 38.2791\n",
            "Epoch 52/100\n",
            "1/1 [==============================] - 0s 9ms/step - loss: 8.2709 - mae: 8.2709\n",
            "Epoch 53/100\n",
            "1/1 [==============================] - 0s 9ms/step - loss: 46.1615 - mae: 46.1615\n",
            "Epoch 54/100\n",
            "1/1 [==============================] - 0s 10ms/step - loss: 14.8401 - mae: 14.8401\n",
            "Epoch 55/100\n",
            "1/1 [==============================] - 0s 10ms/step - loss: 63.9329 - mae: 63.9329\n",
            "Epoch 56/100\n",
            "1/1 [==============================] - 0s 10ms/step - loss: 43.3272 - mae: 43.3272\n",
            "Epoch 57/100\n",
            "1/1 [==============================] - 0s 10ms/step - loss: 7.8257 - mae: 7.8257\n",
            "Epoch 58/100\n",
            "1/1 [==============================] - 0s 10ms/step - loss: 81.1873 - mae: 81.1873\n",
            "Epoch 59/100\n",
            "1/1 [==============================] - 0s 11ms/step - loss: 40.1161 - mae: 40.1161\n",
            "Epoch 60/100\n",
            "1/1 [==============================] - 0s 9ms/step - loss: 5.1123 - mae: 5.1123\n",
            "Epoch 61/100\n",
            "1/1 [==============================] - 0s 9ms/step - loss: 34.2279 - mae: 34.2279\n",
            "Epoch 62/100\n",
            "1/1 [==============================] - 0s 12ms/step - loss: 16.9705 - mae: 16.9705\n",
            "Epoch 63/100\n",
            "1/1 [==============================] - 0s 10ms/step - loss: 49.4077 - mae: 49.4077\n",
            "Epoch 64/100\n",
            "1/1 [==============================] - 0s 16ms/step - loss: 22.9490 - mae: 22.9490\n",
            "Epoch 65/100\n",
            "1/1 [==============================] - 0s 10ms/step - loss: 43.9417 - mae: 43.9417\n",
            "Epoch 66/100\n",
            "1/1 [==============================] - 0s 10ms/step - loss: 46.2127 - mae: 46.2127\n",
            "Epoch 67/100\n",
            "1/1 [==============================] - 0s 19ms/step - loss: 15.0412 - mae: 15.0412\n",
            "Epoch 68/100\n",
            "1/1 [==============================] - 0s 14ms/step - loss: 63.3518 - mae: 63.3518\n",
            "Epoch 69/100\n",
            "1/1 [==============================] - 0s 14ms/step - loss: 43.3908 - mae: 43.3908\n",
            "Epoch 70/100\n",
            "1/1 [==============================] - 0s 22ms/step - loss: 8.0577 - mae: 8.0577\n",
            "Epoch 71/100\n",
            "1/1 [==============================] - 0s 19ms/step - loss: 80.5299 - mae: 80.5299\n",
            "Epoch 72/100\n",
            "1/1 [==============================] - 0s 22ms/step - loss: 40.1938 - mae: 40.1938\n",
            "Epoch 73/100\n",
            "1/1 [==============================] - 0s 25ms/step - loss: 4.9370 - mae: 4.9370\n",
            "Epoch 74/100\n",
            "1/1 [==============================] - 0s 30ms/step - loss: 34.3291 - mae: 34.3291\n",
            "Epoch 75/100\n",
            "1/1 [==============================] - 0s 22ms/step - loss: 16.6444 - mae: 16.6444\n",
            "Epoch 76/100\n",
            "1/1 [==============================] - 0s 22ms/step - loss: 49.4375 - mae: 49.4375\n",
            "Epoch 77/100\n",
            "1/1 [==============================] - 0s 24ms/step - loss: 23.0970 - mae: 23.0970\n",
            "Epoch 78/100\n",
            "1/1 [==============================] - 0s 18ms/step - loss: 43.4933 - mae: 43.4933\n",
            "Epoch 79/100\n",
            "1/1 [==============================] - 0s 15ms/step - loss: 46.2553 - mae: 46.2553\n",
            "Epoch 80/100\n",
            "1/1 [==============================] - 0s 27ms/step - loss: 15.2209 - mae: 15.2209\n",
            "Epoch 81/100\n",
            "1/1 [==============================] - 0s 14ms/step - loss: 62.8237 - mae: 62.8237\n",
            "Epoch 82/100\n",
            "1/1 [==============================] - 0s 12ms/step - loss: 43.4447 - mae: 43.4447\n",
            "Epoch 83/100\n",
            "1/1 [==============================] - 0s 29ms/step - loss: 8.2654 - mae: 8.2654\n",
            "Epoch 84/100\n",
            "1/1 [==============================] - 0s 13ms/step - loss: 79.9325 - mae: 79.9325\n",
            "Epoch 85/100\n",
            "1/1 [==============================] - 0s 10ms/step - loss: 40.2605 - mae: 40.2605\n",
            "Epoch 86/100\n",
            "1/1 [==============================] - 0s 11ms/step - loss: 4.7762 - mae: 4.7762\n",
            "Epoch 87/100\n",
            "1/1 [==============================] - 0s 13ms/step - loss: 34.4169 - mae: 34.4169\n",
            "Epoch 88/100\n",
            "1/1 [==============================] - 0s 25ms/step - loss: 16.3493 - mae: 16.3493\n",
            "Epoch 89/100\n",
            "1/1 [==============================] - 0s 14ms/step - loss: 49.4599 - mae: 49.4599\n",
            "Epoch 90/100\n",
            "1/1 [==============================] - 0s 23ms/step - loss: 23.2268 - mae: 23.2268\n",
            "Epoch 91/100\n",
            "1/1 [==============================] - 0s 15ms/step - loss: 43.0887 - mae: 43.0887\n",
            "Epoch 92/100\n",
            "1/1 [==============================] - 0s 19ms/step - loss: 46.2893 - mae: 46.2893\n",
            "Epoch 93/100\n",
            "1/1 [==============================] - 0s 21ms/step - loss: 15.3793 - mae: 15.3793\n",
            "Epoch 94/100\n",
            "1/1 [==============================] - 0s 16ms/step - loss: 62.3479 - mae: 62.3479\n",
            "Epoch 95/100\n",
            "1/1 [==============================] - 0s 13ms/step - loss: 43.4889 - mae: 43.4889\n",
            "Epoch 96/100\n",
            "1/1 [==============================] - 0s 12ms/step - loss: 8.4490 - mae: 8.4490\n",
            "Epoch 97/100\n",
            "1/1 [==============================] - 0s 11ms/step - loss: 79.3943 - mae: 79.3943\n",
            "Epoch 98/100\n",
            "1/1 [==============================] - 0s 22ms/step - loss: 40.3161 - mae: 40.3161\n",
            "Epoch 99/100\n",
            "1/1 [==============================] - 0s 10ms/step - loss: 4.6471 - mae: 4.6471\n",
            "Epoch 100/100\n",
            "1/1 [==============================] - 0s 12ms/step - loss: 29.6646 - mae: 29.6646\n"
          ]
        },
        {
          "output_type": "execute_result",
          "data": {
            "text/plain": [
              "<keras.src.callbacks.History at 0x795517208d90>"
            ]
          },
          "metadata": {},
          "execution_count": 102
        }
      ]
    },
    {
      "cell_type": "code",
      "source": [
        "y_pred_1 = model_1.predict(x_test)\n",
        "y_pred_1 = tf.constant(y_pred_1)\n",
        "y_pred_1\n"
      ],
      "metadata": {
        "colab": {
          "base_uri": "https://localhost:8080/"
        },
        "id": "G6rwi_XDVM1x",
        "outputId": "0a7ec35f-ea27-40f3-8fc2-79e214f02255"
      },
      "execution_count": 103,
      "outputs": [
        {
          "output_type": "stream",
          "name": "stderr",
          "text": [
            "WARNING:tensorflow:6 out of the last 14 calls to <function Model.make_predict_function.<locals>.predict_function at 0x795516b75000> triggered tf.function retracing. Tracing is expensive and the excessive number of tracings could be due to (1) creating @tf.function repeatedly in a loop, (2) passing tensors with different shapes, (3) passing Python objects instead of tensors. For (1), please define your @tf.function outside of the loop. For (2), @tf.function has reduce_retracing=True option that can avoid unnecessary retracing. For (3), please refer to https://www.tensorflow.org/guide/function#controlling_retracing and https://www.tensorflow.org/api_docs/python/tf/function for  more details.\n"
          ]
        },
        {
          "output_type": "stream",
          "name": "stdout",
          "text": [
            "1/1 [==============================] - 0s 88ms/step\n"
          ]
        },
        {
          "output_type": "execute_result",
          "data": {
            "text/plain": [
              "<tf.Tensor: shape=(6, 1), dtype=float32, numpy=\n",
              "array([[194.11082],\n",
              "       [202.17456],\n",
              "       [210.23827],\n",
              "       [218.302  ],\n",
              "       [226.36568],\n",
              "       [234.4294 ]], dtype=float32)>"
            ]
          },
          "metadata": {},
          "execution_count": 103
        }
      ]
    },
    {
      "cell_type": "code",
      "source": [
        "y_test"
      ],
      "metadata": {
        "colab": {
          "base_uri": "https://localhost:8080/"
        },
        "id": "xtsP6rB5XR2W",
        "outputId": "803e5a32-88e8-48bb-fa34-88d5673147aa"
      },
      "execution_count": 104,
      "outputs": [
        {
          "output_type": "execute_result",
          "data": {
            "text/plain": [
              "<tf.Tensor: shape=(6,), dtype=int32, numpy=array([130, 135, 140, 145, 150, 155], dtype=int32)>"
            ]
          },
          "metadata": {},
          "execution_count": 104
        }
      ]
    },
    {
      "cell_type": "code",
      "source": [
        "## finding evaluation metrics\n",
        "mae_1 = tf. metrics.mean_absolute_error(y_test,tf.squeeze(y_pred_1))\n",
        "\n",
        "mse_1 =mse(y_test,tf.squeeze(y_pred_1))\n",
        "mae_1,mse_1"
      ],
      "metadata": {
        "colab": {
          "base_uri": "https://localhost:8080/"
        },
        "id": "MfIaQk2SWt7n",
        "outputId": "7f7398ba-e237-43ac-89f1-b454509b2f3f"
      },
      "execution_count": 105,
      "outputs": [
        {
          "output_type": "execute_result",
          "data": {
            "text/plain": [
              "(<tf.Tensor: shape=(), dtype=float32, numpy=71.77012>,\n",
              " <tf.Tensor: shape=(), dtype=float32, numpy=5178.327>)"
            ]
          },
          "metadata": {},
          "execution_count": 105
        }
      ]
    },
    {
      "cell_type": "code",
      "source": [
        "plot(x_train,y_train,x_test,y_test,y_pred_1)"
      ],
      "metadata": {
        "colab": {
          "base_uri": "https://localhost:8080/",
          "height": 430
        },
        "id": "wSxmTcjRQwk0",
        "outputId": "b4877b87-d4bd-433b-d5c1-5780015e5938"
      },
      "execution_count": 106,
      "outputs": [
        {
          "output_type": "display_data",
          "data": {
            "text/plain": [
              "<Figure size 640x480 with 1 Axes>"
            ],
            "image/png": "[encoded data removed]"
          },
          "metadata": {}
        }
      ]
    },
    {
      "cell_type": "code",
      "source": [
        "# model 2\n",
        "model_2 = tf.keras.Sequential([\n",
        "    tf.keras.layers.Dense(10),\n",
        "    tf.keras.layers.Dense(1)\n",
        "])\n",
        "model_2.compile(loss = \"mae\",\n",
        "                optimizer = tf.keras.optimizers.SGD(),\n",
        "                metrics = [\"mae\"])\n",
        "model_2.fit(tf.expand_dims(x_train,axis=-1),y_train,epochs = 500)"
      ],
      "metadata": {
        "colab": {
          "base_uri": "https://localhost:8080/"
        },
        "id": "g0gg6T1tViqj",
        "outputId": "5c76c387-c5a9-4b87-89d7-e4a451392a65"
      },
      "execution_count": 107,
      "outputs": [
        {
          "output_type": "stream",
          "name": "stdout",
          "text": [
            "Epoch 1/500\n",
            "1/1 [==============================] - 1s 1s/step - loss: 58.5683 - mae: 58.5683\n",
            "Epoch 2/500\n",
            "1/1 [==============================] - 0s 11ms/step - loss: 22.4736 - mae: 22.4736\n",
            "Epoch 3/500\n",
            "1/1 [==============================] - 0s 25ms/step - loss: 61.0517 - mae: 61.0517\n",
            "Epoch 4/500\n",
            "1/1 [==============================] - 0s 27ms/step - loss: 22.9507 - mae: 22.9507\n",
            "Epoch 5/500\n",
            "1/1 [==============================] - 0s 23ms/step - loss: 49.4037 - mae: 49.4037\n",
            "Epoch 6/500\n",
            "1/1 [==============================] - 0s 26ms/step - loss: 47.1154 - mae: 47.1154\n",
            "Epoch 7/500\n",
            "1/1 [==============================] - 0s 17ms/step - loss: 14.6434 - mae: 14.6434\n",
            "Epoch 8/500\n",
            "1/1 [==============================] - 0s 16ms/step - loss: 65.1387 - mae: 65.1387\n",
            "Epoch 9/500\n",
            "1/1 [==============================] - 0s 13ms/step - loss: 43.3372 - mae: 43.3372\n",
            "Epoch 10/500\n",
            "1/1 [==============================] - 0s 21ms/step - loss: 7.3991 - mae: 7.3991\n",
            "Epoch 11/500\n",
            "1/1 [==============================] - 0s 16ms/step - loss: 82.5819 - mae: 82.5819\n",
            "Epoch 12/500\n",
            "1/1 [==============================] - 0s 22ms/step - loss: 40.0232 - mae: 40.0232\n",
            "Epoch 13/500\n",
            "1/1 [==============================] - 0s 21ms/step - loss: 5.5267 - mae: 5.5267\n",
            "Epoch 14/500\n",
            "1/1 [==============================] - 0s 22ms/step - loss: 38.3137 - mae: 38.3137\n",
            "Epoch 15/500\n",
            "1/1 [==============================] - 0s 13ms/step - loss: 8.4653 - mae: 8.4653\n",
            "Epoch 16/500\n",
            "1/1 [==============================] - 0s 16ms/step - loss: 46.2329 - mae: 46.2329\n",
            "Epoch 17/500\n",
            "1/1 [==============================] - 0s 28ms/step - loss: 14.8067 - mae: 14.8067\n",
            "Epoch 18/500\n",
            "1/1 [==============================] - 0s 18ms/step - loss: 64.2576 - mae: 64.2576\n",
            "Epoch 19/500\n",
            "1/1 [==============================] - 0s 16ms/step - loss: 43.3916 - mae: 43.3916\n",
            "Epoch 20/500\n",
            "1/1 [==============================] - 0s 17ms/step - loss: 7.7767 - mae: 7.7767\n",
            "Epoch 21/500\n",
            "1/1 [==============================] - 0s 20ms/step - loss: 81.5509 - mae: 81.5509\n",
            "Epoch 22/500\n",
            "1/1 [==============================] - 0s 28ms/step - loss: 40.1736 - mae: 40.1736\n",
            "Epoch 23/500\n",
            "1/1 [==============================] - 0s 19ms/step - loss: 5.2500 - mae: 5.2500\n",
            "Epoch 24/500\n",
            "1/1 [==============================] - 0s 40ms/step - loss: 34.2794 - mae: 34.2794\n",
            "Epoch 25/500\n",
            "1/1 [==============================] - 0s 18ms/step - loss: 17.1156 - mae: 17.1156\n",
            "Epoch 26/500\n",
            "1/1 [==============================] - 0s 40ms/step - loss: 49.5061 - mae: 49.5061\n",
            "Epoch 27/500\n",
            "1/1 [==============================] - 0s 11ms/step - loss: 22.9847 - mae: 22.9847\n",
            "Epoch 28/500\n",
            "1/1 [==============================] - 0s 24ms/step - loss: 44.1081 - mae: 44.1081\n",
            "Epoch 29/500\n",
            "1/1 [==============================] - 0s 23ms/step - loss: 46.3078 - mae: 46.3078\n",
            "Epoch 30/500\n",
            "1/1 [==============================] - 0s 14ms/step - loss: 15.0685 - mae: 15.0685\n",
            "Epoch 31/500\n",
            "1/1 [==============================] - 0s 12ms/step - loss: 63.5267 - mae: 63.5267\n",
            "Epoch 32/500\n",
            "1/1 [==============================] - 0s 18ms/step - loss: 43.4829 - mae: 43.4829\n",
            "Epoch 33/500\n",
            "1/1 [==============================] - 0s 15ms/step - loss: 8.0776 - mae: 8.0776\n",
            "Epoch 34/500\n",
            "1/1 [==============================] - 0s 21ms/step - loss: 80.7238 - mae: 80.7238\n",
            "Epoch 35/500\n",
            "1/1 [==============================] - 0s 15ms/step - loss: 40.2828 - mae: 40.2828\n",
            "Epoch 36/500\n",
            "1/1 [==============================] - 0s 20ms/step - loss: 5.0340 - mae: 5.0340\n",
            "Epoch 37/500\n",
            "1/1 [==============================] - 0s 22ms/step - loss: 34.4189 - mae: 34.4189\n",
            "Epoch 38/500\n",
            "1/1 [==============================] - 0s 35ms/step - loss: 16.7015 - mae: 16.7015\n",
            "Epoch 39/500\n",
            "1/1 [==============================] - 0s 15ms/step - loss: 49.5565 - mae: 49.5565\n",
            "Epoch 40/500\n",
            "1/1 [==============================] - 0s 20ms/step - loss: 23.1838 - mae: 23.1838\n",
            "Epoch 41/500\n",
            "1/1 [==============================] - 0s 17ms/step - loss: 43.5354 - mae: 43.5354\n",
            "Epoch 42/500\n",
            "1/1 [==============================] - 0s 34ms/step - loss: 46.3747 - mae: 46.3747\n",
            "Epoch 43/500\n",
            "1/1 [==============================] - 0s 16ms/step - loss: 15.3085 - mae: 15.3085\n",
            "Epoch 44/500\n",
            "1/1 [==============================] - 0s 15ms/step - loss: 62.8501 - mae: 62.8501\n",
            "Epoch 45/500\n",
            "1/1 [==============================] - 0s 22ms/step - loss: 43.5643 - mae: 43.5643\n",
            "Epoch 46/500\n",
            "1/1 [==============================] - 0s 24ms/step - loss: 8.3536 - mae: 8.3536\n",
            "Epoch 47/500\n",
            "1/1 [==============================] - 0s 14ms/step - loss: 79.9581 - mae: 79.9581\n",
            "Epoch 48/500\n",
            "1/1 [==============================] - 0s 23ms/step - loss: 40.3806 - mae: 40.3806\n",
            "Epoch 49/500\n",
            "1/1 [==============================] - 0s 14ms/step - loss: 4.8386 - mae: 4.8386\n",
            "Epoch 50/500\n",
            "1/1 [==============================] - 0s 16ms/step - loss: 29.6961 - mae: 29.6961\n",
            "Epoch 51/500\n",
            "1/1 [==============================] - 0s 16ms/step - loss: 27.6989 - mae: 27.6989\n",
            "Epoch 52/500\n",
            "1/1 [==============================] - 0s 20ms/step - loss: 48.4081 - mae: 48.4081\n",
            "Epoch 53/500\n",
            "1/1 [==============================] - 0s 18ms/step - loss: 20.4087 - mae: 20.4087\n",
            "Epoch 54/500\n",
            "1/1 [==============================] - 0s 11ms/step - loss: 50.2254 - mae: 50.2254\n",
            "Epoch 55/500\n",
            "1/1 [==============================] - 0s 14ms/step - loss: 45.8732 - mae: 45.8732\n",
            "Epoch 56/500\n",
            "1/1 [==============================] - 0s 20ms/step - loss: 14.1372 - mae: 14.1372\n",
            "Epoch 57/500\n",
            "1/1 [==============================] - 0s 26ms/step - loss: 65.6505 - mae: 65.6505\n",
            "Epoch 58/500\n",
            "1/1 [==============================] - 0s 16ms/step - loss: 43.0016 - mae: 43.0016\n",
            "Epoch 59/500\n",
            "1/1 [==============================] - 0s 25ms/step - loss: 7.0303 - mae: 7.0303\n",
            "Epoch 60/500\n",
            "1/1 [==============================] - 0s 23ms/step - loss: 83.1328 - mae: 83.1328\n",
            "Epoch 61/500\n",
            "1/1 [==============================] - 0s 15ms/step - loss: 39.7483 - mae: 39.7483\n",
            "Epoch 62/500\n",
            "1/1 [==============================] - 0s 25ms/step - loss: 5.6242 - mae: 5.6242\n",
            "Epoch 63/500\n",
            "1/1 [==============================] - 0s 19ms/step - loss: 38.0237 - mae: 38.0237\n",
            "Epoch 64/500\n",
            "1/1 [==============================] - 0s 34ms/step - loss: 8.6898 - mae: 8.6898\n",
            "Epoch 65/500\n",
            "1/1 [==============================] - 0s 17ms/step - loss: 45.9602 - mae: 45.9602\n",
            "Epoch 66/500\n",
            "1/1 [==============================] - 0s 25ms/step - loss: 14.4111 - mae: 14.4111\n",
            "Epoch 67/500\n",
            "1/1 [==============================] - 0s 22ms/step - loss: 64.9083 - mae: 64.9083\n",
            "Epoch 68/500\n",
            "1/1 [==============================] - 0s 23ms/step - loss: 43.1045 - mae: 43.1045\n",
            "Epoch 69/500\n",
            "1/1 [==============================] - 0s 16ms/step - loss: 7.3436 - mae: 7.3436\n",
            "Epoch 70/500\n",
            "1/1 [==============================] - 0s 21ms/step - loss: 82.2933 - mae: 82.2933\n",
            "Epoch 71/500\n",
            "1/1 [==============================] - 0s 34ms/step - loss: 39.8691 - mae: 39.8691\n",
            "Epoch 72/500\n",
            "1/1 [==============================] - 0s 34ms/step - loss: 5.3800 - mae: 5.3800\n",
            "Epoch 73/500\n",
            "1/1 [==============================] - 0s 14ms/step - loss: 38.1512 - mae: 38.1512\n",
            "Epoch 74/500\n",
            "1/1 [==============================] - 0s 32ms/step - loss: 8.3653 - mae: 8.3653\n",
            "Epoch 75/500\n",
            "1/1 [==============================] - 0s 18ms/step - loss: 46.0398 - mae: 46.0398\n",
            "Epoch 76/500\n",
            "1/1 [==============================] - 0s 25ms/step - loss: 14.6665 - mae: 14.6665\n",
            "Epoch 77/500\n",
            "1/1 [==============================] - 0s 20ms/step - loss: 64.2116 - mae: 64.2116\n",
            "Epoch 78/500\n",
            "1/1 [==============================] - 0s 40ms/step - loss: 43.1990 - mae: 43.1990\n",
            "Epoch 79/500\n",
            "1/1 [==============================] - 0s 30ms/step - loss: 7.6360 - mae: 7.6360\n",
            "Epoch 80/500\n",
            "1/1 [==============================] - 0s 13ms/step - loss: 81.5053 - mae: 81.5053\n",
            "Epoch 81/500\n",
            "1/1 [==============================] - 0s 17ms/step - loss: 39.9805 - mae: 39.9805\n",
            "Epoch 82/500\n",
            "1/1 [==============================] - 0s 18ms/step - loss: 5.1582 - mae: 5.1582\n",
            "Epoch 83/500\n",
            "1/1 [==============================] - 0s 14ms/step - loss: 34.0746 - mae: 34.0746\n",
            "Epoch 84/500\n",
            "1/1 [==============================] - 0s 43ms/step - loss: 17.1616 - mae: 17.1616\n",
            "Epoch 85/500\n",
            "1/1 [==============================] - 0s 19ms/step - loss: 49.2816 - mae: 49.2816\n",
            "Epoch 86/500\n",
            "1/1 [==============================] - 0s 36ms/step - loss: 22.7646 - mae: 22.7646\n",
            "Epoch 87/500\n",
            "1/1 [==============================] - 0s 24ms/step - loss: 44.2341 - mae: 44.2341\n",
            "Epoch 88/500\n",
            "1/1 [==============================] - 0s 18ms/step - loss: 46.0772 - mae: 46.0772\n",
            "Epoch 89/500\n",
            "1/1 [==============================] - 0s 33ms/step - loss: 14.8333 - mae: 14.8333\n",
            "Epoch 90/500\n",
            "1/1 [==============================] - 0s 30ms/step - loss: 63.7152 - mae: 63.7152\n",
            "Epoch 91/500\n",
            "1/1 [==============================] - 0s 19ms/step - loss: 43.2470 - mae: 43.2470\n",
            "Epoch 92/500\n",
            "1/1 [==============================] - 0s 25ms/step - loss: 7.8291 - mae: 7.8291\n",
            "Epoch 93/500\n",
            "1/1 [==============================] - 0s 32ms/step - loss: 80.9438 - mae: 80.9438\n",
            "Epoch 94/500\n",
            "1/1 [==============================] - 0s 28ms/step - loss: 40.0404 - mae: 40.0404\n",
            "Epoch 95/500\n",
            "1/1 [==============================] - 0s 21ms/step - loss: 5.0060 - mae: 5.0060\n",
            "Epoch 96/500\n",
            "1/1 [==============================] - 0s 19ms/step - loss: 34.1543 - mae: 34.1543\n",
            "Epoch 97/500\n",
            "1/1 [==============================] - 0s 11ms/step - loss: 16.8852 - mae: 16.8852\n",
            "Epoch 98/500\n",
            "1/1 [==============================] - 0s 27ms/step - loss: 49.2997 - mae: 49.2997\n",
            "Epoch 99/500\n",
            "1/1 [==============================] - 0s 17ms/step - loss: 22.8836 - mae: 22.8836\n",
            "Epoch 100/500\n",
            "1/1 [==============================] - 0s 23ms/step - loss: 43.8560 - mae: 43.8560\n",
            "Epoch 101/500\n",
            "1/1 [==============================] - 0s 15ms/step - loss: 46.1060 - mae: 46.1060\n",
            "Epoch 102/500\n",
            "1/1 [==============================] - 0s 23ms/step - loss: 14.9788 - mae: 14.9788\n",
            "Epoch 103/500\n",
            "1/1 [==============================] - 0s 10ms/step - loss: 63.2712 - mae: 63.2712\n",
            "Epoch 104/500\n",
            "1/1 [==============================] - 0s 29ms/step - loss: 43.2852 - mae: 43.2852\n",
            "Epoch 105/500\n",
            "1/1 [==============================] - 0s 16ms/step - loss: 7.9981 - mae: 7.9981\n",
            "Epoch 106/500\n",
            "1/1 [==============================] - 0s 46ms/step - loss: 80.4417 - mae: 80.4417\n",
            "Epoch 107/500\n",
            "1/1 [==============================] - 0s 16ms/step - loss: 40.0893 - mae: 40.0893\n",
            "Epoch 108/500\n",
            "1/1 [==============================] - 0s 18ms/step - loss: 4.8680 - mae: 4.8680\n",
            "Epoch 109/500\n",
            "1/1 [==============================] - 0s 16ms/step - loss: 34.2205 - mae: 34.2205\n",
            "Epoch 110/500\n",
            "1/1 [==============================] - 0s 17ms/step - loss: 16.6396 - mae: 16.6396\n",
            "Epoch 111/500\n",
            "1/1 [==============================] - 0s 17ms/step - loss: 49.3106 - mae: 49.3106\n",
            "Epoch 112/500\n",
            "1/1 [==============================] - 0s 18ms/step - loss: 22.9846 - mae: 22.9846\n",
            "Epoch 113/500\n",
            "1/1 [==============================] - 0s 11ms/step - loss: 43.5215 - mae: 43.5215\n",
            "Epoch 114/500\n",
            "1/1 [==============================] - 0s 17ms/step - loss: 46.1263 - mae: 46.1263\n",
            "Epoch 115/500\n",
            "1/1 [==============================] - 0s 23ms/step - loss: 15.1033 - mae: 15.1033\n",
            "Epoch 116/500\n",
            "1/1 [==============================] - 0s 16ms/step - loss: 62.8790 - mae: 62.8790\n",
            "Epoch 117/500\n",
            "1/1 [==============================] - 0s 11ms/step - loss: 43.3139 - mae: 43.3139\n",
            "Epoch 118/500\n",
            "1/1 [==============================] - 0s 11ms/step - loss: 8.1432 - mae: 8.1432\n",
            "Epoch 119/500\n",
            "1/1 [==============================] - 0s 11ms/step - loss: 79.9983 - mae: 79.9983\n",
            "Epoch 120/500\n",
            "1/1 [==============================] - 0s 13ms/step - loss: 40.1274 - mae: 40.1274\n",
            "Epoch 121/500\n",
            "1/1 [==============================] - 0s 11ms/step - loss: 4.7442 - mae: 4.7442\n",
            "Epoch 122/500\n",
            "1/1 [==============================] - 0s 23ms/step - loss: 34.2736 - mae: 34.2736\n",
            "Epoch 123/500\n",
            "1/1 [==============================] - 0s 11ms/step - loss: 16.4244 - mae: 16.4244\n",
            "Epoch 124/500\n",
            "1/1 [==============================] - 0s 11ms/step - loss: 49.3143 - mae: 49.3143\n",
            "Epoch 125/500\n",
            "1/1 [==============================] - 0s 10ms/step - loss: 23.0680 - mae: 23.0680\n",
            "Epoch 126/500\n",
            "1/1 [==============================] - 0s 11ms/step - loss: 43.2299 - mae: 43.2299\n",
            "Epoch 127/500\n",
            "1/1 [==============================] - 0s 14ms/step - loss: 46.1382 - mae: 46.1382\n",
            "Epoch 128/500\n",
            "1/1 [==============================] - 0s 12ms/step - loss: 15.2069 - mae: 15.2069\n",
            "Epoch 129/500\n",
            "1/1 [==============================] - 0s 9ms/step - loss: 62.5382 - mae: 62.5382\n",
            "Epoch 130/500\n",
            "1/1 [==============================] - 0s 12ms/step - loss: 43.3330 - mae: 43.3330\n",
            "Epoch 131/500\n",
            "1/1 [==============================] - 0s 10ms/step - loss: 8.2647 - mae: 8.2647\n",
            "Epoch 132/500\n",
            "1/1 [==============================] - 0s 20ms/step - loss: 79.6131 - mae: 79.6131\n",
            "Epoch 133/500\n",
            "1/1 [==============================] - 0s 14ms/step - loss: 40.1546 - mae: 40.1546\n",
            "Epoch 134/500\n",
            "1/1 [==============================] - 0s 15ms/step - loss: 4.6353 - mae: 4.6353\n",
            "Epoch 135/500\n",
            "1/1 [==============================] - 0s 12ms/step - loss: 29.4816 - mae: 29.4816\n",
            "Epoch 136/500\n",
            "1/1 [==============================] - 0s 19ms/step - loss: 27.6051 - mae: 27.6051\n",
            "Epoch 137/500\n",
            "1/1 [==============================] - 0s 17ms/step - loss: 48.1260 - mae: 48.1260\n",
            "Epoch 138/500\n",
            "1/1 [==============================] - 0s 11ms/step - loss: 20.1938 - mae: 20.1938\n",
            "Epoch 139/500\n",
            "1/1 [==============================] - 0s 12ms/step - loss: 50.1941 - mae: 50.1941\n",
            "Epoch 140/500\n",
            "1/1 [==============================] - 0s 11ms/step - loss: 45.5905 - mae: 45.5905\n",
            "Epoch 141/500\n",
            "1/1 [==============================] - 0s 11ms/step - loss: 13.9208 - mae: 13.9208\n",
            "Epoch 142/500\n",
            "1/1 [==============================] - 0s 28ms/step - loss: 65.6211 - mae: 65.6211\n",
            "Epoch 143/500\n",
            "1/1 [==============================] - 0s 21ms/step - loss: 42.7177 - mae: 42.7177\n",
            "Epoch 144/500\n",
            "1/1 [==============================] - 0s 16ms/step - loss: 6.8110 - mae: 6.8110\n",
            "Epoch 145/500\n",
            "1/1 [==============================] - 0s 20ms/step - loss: 83.1085 - mae: 83.1085\n",
            "Epoch 146/500\n",
            "1/1 [==============================] - 0s 18ms/step - loss: 39.4626 - mae: 39.4626\n",
            "Epoch 147/500\n",
            "1/1 [==============================] - 0s 17ms/step - loss: 5.5217 - mae: 5.5217\n",
            "Epoch 148/500\n",
            "1/1 [==============================] - 0s 17ms/step - loss: 37.7154 - mae: 37.7154\n",
            "Epoch 149/500\n",
            "1/1 [==============================] - 0s 17ms/step - loss: 8.6989 - mae: 8.6989\n",
            "Epoch 150/500\n",
            "1/1 [==============================] - 0s 24ms/step - loss: 45.6273 - mae: 45.6273\n",
            "Epoch 151/500\n",
            "1/1 [==============================] - 0s 17ms/step - loss: 14.0701 - mae: 14.0701\n",
            "Epoch 152/500\n",
            "1/1 [==============================] - 0s 16ms/step - loss: 65.1858 - mae: 65.1858\n",
            "Epoch 153/500\n",
            "1/1 [==============================] - 0s 24ms/step - loss: 42.7637 - mae: 42.7637\n",
            "Epoch 154/500\n",
            "1/1 [==============================] - 0s 17ms/step - loss: 6.9832 - mae: 6.9832\n",
            "Epoch 155/500\n",
            "1/1 [==============================] - 0s 18ms/step - loss: 82.6167 - mae: 82.6167\n",
            "Epoch 156/500\n",
            "1/1 [==============================] - 0s 28ms/step - loss: 39.5190 - mae: 39.5190\n",
            "Epoch 157/500\n",
            "1/1 [==============================] - 0s 20ms/step - loss: 5.3737 - mae: 5.3737\n",
            "Epoch 158/500\n",
            "1/1 [==============================] - 0s 20ms/step - loss: 37.7744 - mae: 37.7744\n",
            "Epoch 159/500\n",
            "1/1 [==============================] - 0s 13ms/step - loss: 8.5098 - mae: 8.5098\n",
            "Epoch 160/500\n",
            "1/1 [==============================] - 0s 12ms/step - loss: 45.6571 - mae: 45.6571\n",
            "Epoch 161/500\n",
            "1/1 [==============================] - 0s 18ms/step - loss: 14.2020 - mae: 14.2020\n",
            "Epoch 162/500\n",
            "1/1 [==============================] - 0s 17ms/step - loss: 64.7934 - mae: 64.7934\n",
            "Epoch 163/500\n",
            "1/1 [==============================] - 0s 14ms/step - loss: 42.8018 - mae: 42.8018\n",
            "Epoch 164/500\n",
            "1/1 [==============================] - 0s 11ms/step - loss: 7.1356 - mae: 7.1356\n",
            "Epoch 165/500\n",
            "1/1 [==============================] - 0s 11ms/step - loss: 82.1735 - mae: 82.1735\n",
            "Epoch 166/500\n",
            "1/1 [==============================] - 0s 12ms/step - loss: 39.5664 - mae: 39.5664\n",
            "Epoch 167/500\n",
            "1/1 [==============================] - 0s 12ms/step - loss: 5.2392 - mae: 5.2392\n",
            "Epoch 168/500\n",
            "1/1 [==============================] - 0s 11ms/step - loss: 37.8238 - mae: 37.8238\n",
            "Epoch 169/500\n",
            "1/1 [==============================] - 0s 17ms/step - loss: 8.3396 - mae: 8.3396\n",
            "Epoch 170/500\n",
            "1/1 [==============================] - 0s 16ms/step - loss: 45.6800 - mae: 45.6800\n",
            "Epoch 171/500\n",
            "1/1 [==============================] - 0s 37ms/step - loss: 14.3167 - mae: 14.3167\n",
            "Epoch 172/500\n",
            "1/1 [==============================] - 0s 25ms/step - loss: 64.4435 - mae: 64.4435\n",
            "Epoch 173/500\n",
            "1/1 [==============================] - 0s 27ms/step - loss: 42.8320 - mae: 42.8320\n",
            "Epoch 174/500\n",
            "1/1 [==============================] - 0s 32ms/step - loss: 7.2685 - mae: 7.2685\n",
            "Epoch 175/500\n",
            "1/1 [==============================] - 0s 27ms/step - loss: 81.7784 - mae: 81.7784\n",
            "Epoch 176/500\n",
            "1/1 [==============================] - 0s 48ms/step - loss: 39.6049 - mae: 39.6049\n",
            "Epoch 177/500\n",
            "1/1 [==============================] - 0s 23ms/step - loss: 5.1179 - mae: 5.1179\n",
            "Epoch 178/500\n",
            "1/1 [==============================] - 0s 19ms/step - loss: 37.8638 - mae: 37.8638\n",
            "Epoch 179/500\n",
            "1/1 [==============================] - 0s 27ms/step - loss: 8.1881 - mae: 8.1881\n",
            "Epoch 180/500\n",
            "1/1 [==============================] - 0s 20ms/step - loss: 45.6959 - mae: 45.6959\n",
            "Epoch 181/500\n",
            "1/1 [==============================] - 0s 26ms/step - loss: 14.4143 - mae: 14.4143\n",
            "Epoch 182/500\n",
            "1/1 [==============================] - 0s 22ms/step - loss: 64.1356 - mae: 64.1356\n",
            "Epoch 183/500\n",
            "1/1 [==============================] - 0s 21ms/step - loss: 42.8544 - mae: 42.8544\n",
            "Epoch 184/500\n",
            "1/1 [==============================] - 0s 15ms/step - loss: 7.3821 - mae: 7.3821\n",
            "Epoch 185/500\n",
            "1/1 [==============================] - 0s 11ms/step - loss: 81.4310 - mae: 81.4310\n",
            "Epoch 186/500\n",
            "1/1 [==============================] - 0s 11ms/step - loss: 39.6345 - mae: 39.6345\n",
            "Epoch 187/500\n",
            "1/1 [==============================] - 0s 10ms/step - loss: 5.0099 - mae: 5.0099\n",
            "Epoch 188/500\n",
            "1/1 [==============================] - 0s 21ms/step - loss: 37.8945 - mae: 37.8945\n",
            "Epoch 189/500\n",
            "1/1 [==============================] - 0s 16ms/step - loss: 8.0552 - mae: 8.0552\n",
            "Epoch 190/500\n",
            "1/1 [==============================] - 0s 15ms/step - loss: 45.7051 - mae: 45.7051\n",
            "Epoch 191/500\n",
            "1/1 [==============================] - 0s 19ms/step - loss: 14.4949 - mae: 14.4949\n",
            "Epoch 192/500\n",
            "1/1 [==============================] - 0s 19ms/step - loss: 63.8694 - mae: 63.8694\n",
            "Epoch 193/500\n",
            "1/1 [==============================] - 0s 16ms/step - loss: 42.8690 - mae: 42.8690\n",
            "Epoch 194/500\n",
            "1/1 [==============================] - 0s 19ms/step - loss: 7.4764 - mae: 7.4764\n",
            "Epoch 195/500\n",
            "1/1 [==============================] - 0s 19ms/step - loss: 81.1308 - mae: 81.1308\n",
            "Epoch 196/500\n",
            "1/1 [==============================] - 0s 20ms/step - loss: 39.6554 - mae: 39.6554\n",
            "Epoch 197/500\n",
            "1/1 [==============================] - 0s 13ms/step - loss: 4.9150 - mae: 4.9150\n",
            "Epoch 198/500\n",
            "1/1 [==============================] - 0s 17ms/step - loss: 37.9158 - mae: 37.9158\n",
            "Epoch 199/500\n",
            "1/1 [==============================] - 0s 21ms/step - loss: 7.9407 - mae: 7.9407\n",
            "Epoch 200/500\n",
            "1/1 [==============================] - 0s 25ms/step - loss: 45.7075 - mae: 45.7075\n",
            "Epoch 201/500\n",
            "1/1 [==============================] - 0s 25ms/step - loss: 14.5588 - mae: 14.5588\n",
            "Epoch 202/500\n",
            "1/1 [==============================] - 0s 14ms/step - loss: 63.6445 - mae: 63.6445\n",
            "Epoch 203/500\n",
            "1/1 [==============================] - 0s 15ms/step - loss: 42.8761 - mae: 42.8761\n",
            "Epoch 204/500\n",
            "1/1 [==============================] - 0s 20ms/step - loss: 7.5518 - mae: 7.5518\n",
            "Epoch 205/500\n",
            "1/1 [==============================] - 0s 13ms/step - loss: 80.8774 - mae: 80.8774\n",
            "Epoch 206/500\n",
            "1/1 [==============================] - 0s 15ms/step - loss: 39.6676 - mae: 39.6676\n",
            "Epoch 207/500\n",
            "1/1 [==============================] - 0s 20ms/step - loss: 4.8340 - mae: 4.8340\n",
            "Epoch 208/500\n",
            "1/1 [==============================] - 0s 21ms/step - loss: 33.7574 - mae: 33.7574\n",
            "Epoch 209/500\n",
            "1/1 [==============================] - 0s 17ms/step - loss: 16.9852 - mae: 16.9852\n",
            "Epoch 210/500\n",
            "1/1 [==============================] - 0s 22ms/step - loss: 48.8676 - mae: 48.8676\n",
            "Epoch 211/500\n",
            "1/1 [==============================] - 0s 18ms/step - loss: 22.4544 - mae: 22.4544\n",
            "Epoch 212/500\n",
            "1/1 [==============================] - 0s 13ms/step - loss: 44.1401 - mae: 44.1401\n",
            "Epoch 213/500\n",
            "1/1 [==============================] - 0s 15ms/step - loss: 46.4630 - mae: 46.4630\n",
            "Epoch 214/500\n",
            "1/1 [==============================] - 0s 11ms/step - loss: 16.5063 - mae: 16.5063\n",
            "Epoch 215/500\n",
            "1/1 [==============================] - 0s 11ms/step - loss: 58.7655 - mae: 58.7655\n",
            "Epoch 216/500\n",
            "1/1 [==============================] - 0s 18ms/step - loss: 43.7383 - mae: 43.7383\n",
            "Epoch 217/500\n",
            "1/1 [==============================] - 0s 22ms/step - loss: 9.7638 - mae: 9.7638\n",
            "Epoch 218/500\n",
            "1/1 [==============================] - 0s 15ms/step - loss: 75.3467 - mae: 75.3467\n",
            "Epoch 219/500\n",
            "1/1 [==============================] - 0s 18ms/step - loss: 40.6506 - mae: 40.6506\n",
            "Epoch 220/500\n",
            "1/1 [==============================] - 0s 16ms/step - loss: 3.8110 - mae: 3.8110\n",
            "Epoch 221/500\n",
            "1/1 [==============================] - 0s 12ms/step - loss: 11.3475 - mae: 11.3475\n",
            "Epoch 222/500\n",
            "1/1 [==============================] - 0s 18ms/step - loss: 71.4213 - mae: 71.4213\n",
            "Epoch 223/500\n",
            "1/1 [==============================] - 0s 18ms/step - loss: 41.3658 - mae: 41.3658\n",
            "Epoch 224/500\n",
            "1/1 [==============================] - 0s 38ms/step - loss: 4.0516 - mae: 4.0516\n",
            "Epoch 225/500\n",
            "1/1 [==============================] - 0s 17ms/step - loss: 40.5585 - mae: 40.5585\n",
            "Epoch 226/500\n",
            "1/1 [==============================] - 0s 17ms/step - loss: 46.3154 - mae: 46.3154\n",
            "Epoch 227/500\n",
            "1/1 [==============================] - 0s 16ms/step - loss: 16.2114 - mae: 16.2114\n",
            "Epoch 228/500\n",
            "1/1 [==============================] - 0s 16ms/step - loss: 59.4088 - mae: 59.4088\n",
            "Epoch 229/500\n",
            "1/1 [==============================] - 0s 14ms/step - loss: 43.5763 - mae: 43.5763\n",
            "Epoch 230/500\n",
            "1/1 [==============================] - 0s 18ms/step - loss: 9.4334 - mae: 9.4334\n",
            "Epoch 231/500\n",
            "1/1 [==============================] - 0s 17ms/step - loss: 76.0772 - mae: 76.0772\n",
            "Epoch 232/500\n",
            "1/1 [==============================] - 0s 20ms/step - loss: 40.4723 - mae: 40.4723\n",
            "Epoch 233/500\n",
            "1/1 [==============================] - 0s 27ms/step - loss: 3.8595 - mae: 3.8595\n",
            "Epoch 234/500\n",
            "1/1 [==============================] - 0s 27ms/step - loss: 18.2670 - mae: 18.2670\n",
            "Epoch 235/500\n",
            "1/1 [==============================] - 0s 30ms/step - loss: 54.3034 - mae: 54.3034\n",
            "Epoch 236/500\n",
            "1/1 [==============================] - 0s 15ms/step - loss: 44.5011 - mae: 44.5011\n",
            "Epoch 237/500\n",
            "1/1 [==============================] - 0s 14ms/step - loss: 11.7660 - mae: 11.7660\n",
            "Epoch 238/500\n",
            "1/1 [==============================] - 0s 15ms/step - loss: 70.2896 - mae: 70.2896\n",
            "Epoch 239/500\n",
            "1/1 [==============================] - 0s 24ms/step - loss: 41.5236 - mae: 41.5236\n",
            "Epoch 240/500\n",
            "1/1 [==============================] - 0s 21ms/step - loss: 4.3965 - mae: 4.3965\n",
            "Epoch 241/500\n",
            "1/1 [==============================] - 0s 22ms/step - loss: 88.4142 - mae: 88.4142\n",
            "Epoch 242/500\n",
            "1/1 [==============================] - 0s 25ms/step - loss: 38.1494 - mae: 38.1494\n",
            "Epoch 243/500\n",
            "1/1 [==============================] - 0s 33ms/step - loss: 7.1792 - mae: 7.1792\n",
            "Epoch 244/500\n",
            "1/1 [==============================] - 0s 34ms/step - loss: 45.8238 - mae: 45.8238\n",
            "Epoch 245/500\n",
            "1/1 [==============================] - 0s 27ms/step - loss: 15.0918 - mae: 15.0918\n",
            "Epoch 246/500\n",
            "1/1 [==============================] - 0s 20ms/step - loss: 62.0500 - mae: 62.0500\n",
            "Epoch 247/500\n",
            "1/1 [==============================] - 0s 30ms/step - loss: 43.0266 - mae: 43.0266\n",
            "Epoch 248/500\n",
            "1/1 [==============================] - 0s 18ms/step - loss: 8.1698 - mae: 8.1698\n",
            "Epoch 249/500\n",
            "1/1 [==============================] - 0s 20ms/step - loss: 79.0727 - mae: 79.0727\n",
            "Epoch 250/500\n",
            "1/1 [==============================] - 0s 18ms/step - loss: 39.8568 - mae: 39.8568\n",
            "Epoch 251/500\n",
            "1/1 [==============================] - 0s 13ms/step - loss: 4.3447 - mae: 4.3447\n",
            "Epoch 252/500\n",
            "1/1 [==============================] - 0s 18ms/step - loss: 34.0106 - mae: 34.0106\n",
            "Epoch 253/500\n",
            "1/1 [==============================] - 0s 18ms/step - loss: 16.0968 - mae: 16.0968\n",
            "Epoch 254/500\n",
            "1/1 [==============================] - 0s 22ms/step - loss: 48.9225 - mae: 48.9225\n",
            "Epoch 255/500\n",
            "1/1 [==============================] - 0s 16ms/step - loss: 22.8349 - mae: 22.8349\n",
            "Epoch 256/500\n",
            "1/1 [==============================] - 0s 13ms/step - loss: 42.9222 - mae: 42.9222\n",
            "Epoch 257/500\n",
            "1/1 [==============================] - 0s 21ms/step - loss: 46.5442 - mae: 46.5442\n",
            "Epoch 258/500\n",
            "1/1 [==============================] - 0s 13ms/step - loss: 16.9521 - mae: 16.9521\n",
            "Epoch 259/500\n",
            "1/1 [==============================] - 0s 25ms/step - loss: 57.3859 - mae: 57.3859\n",
            "Epoch 260/500\n",
            "1/1 [==============================] - 0s 19ms/step - loss: 43.8492 - mae: 43.8492\n",
            "Epoch 261/500\n",
            "1/1 [==============================] - 0s 16ms/step - loss: 10.2832 - mae: 10.2832\n",
            "Epoch 262/500\n",
            "1/1 [==============================] - 0s 18ms/step - loss: 73.7851 - mae: 73.7851\n",
            "Epoch 263/500\n",
            "1/1 [==============================] - 0s 15ms/step - loss: 40.7949 - mae: 40.7949\n",
            "Epoch 264/500\n",
            "1/1 [==============================] - 0s 19ms/step - loss: 3.6647 - mae: 3.6647\n",
            "Epoch 265/500\n",
            "1/1 [==============================] - 0s 14ms/step - loss: 3.8773 - mae: 3.8773\n",
            "Epoch 266/500\n",
            "1/1 [==============================] - 0s 16ms/step - loss: 40.8116 - mae: 40.8116\n",
            "Epoch 267/500\n",
            "1/1 [==============================] - 0s 13ms/step - loss: 46.1269 - mae: 46.1269\n",
            "Epoch 268/500\n",
            "1/1 [==============================] - 0s 15ms/step - loss: 15.9717 - mae: 15.9717\n",
            "Epoch 269/500\n",
            "1/1 [==============================] - 0s 16ms/step - loss: 59.7350 - mae: 59.7350\n",
            "Epoch 270/500\n",
            "1/1 [==============================] - 0s 28ms/step - loss: 43.3799 - mae: 43.3799\n",
            "Epoch 271/500\n",
            "1/1 [==============================] - 0s 36ms/step - loss: 9.1745 - mae: 9.1745\n",
            "Epoch 272/500\n",
            "1/1 [==============================] - 0s 24ms/step - loss: 76.4500 - mae: 76.4500\n",
            "Epoch 273/500\n",
            "1/1 [==============================] - 0s 38ms/step - loss: 40.2669 - mae: 40.2669\n",
            "Epoch 274/500\n",
            "1/1 [==============================] - 0s 18ms/step - loss: 3.8285 - mae: 3.8285\n",
            "Epoch 275/500\n",
            "1/1 [==============================] - 0s 41ms/step - loss: 24.3269 - mae: 24.3269\n",
            "Epoch 276/500\n",
            "1/1 [==============================] - 0s 16ms/step - loss: 39.1490 - mae: 39.1490\n",
            "Epoch 277/500\n",
            "1/1 [==============================] - 0s 32ms/step - loss: 46.4186 - mae: 46.4186\n",
            "Epoch 278/500\n",
            "1/1 [==============================] - 0s 27ms/step - loss: 16.7512 - mae: 16.7512\n",
            "Epoch 279/500\n",
            "1/1 [==============================] - 0s 33ms/step - loss: 57.7516 - mae: 57.7516\n",
            "Epoch 280/500\n",
            "1/1 [==============================] - 0s 16ms/step - loss: 43.7150 - mae: 43.7150\n",
            "Epoch 281/500\n",
            "1/1 [==============================] - 0s 30ms/step - loss: 10.0615 - mae: 10.0615\n",
            "Epoch 282/500\n",
            "1/1 [==============================] - 0s 12ms/step - loss: 74.2018 - mae: 74.2018\n",
            "Epoch 283/500\n",
            "1/1 [==============================] - 0s 23ms/step - loss: 40.6511 - mae: 40.6511\n",
            "Epoch 284/500\n",
            "1/1 [==============================] - 0s 25ms/step - loss: 3.6229 - mae: 3.6229\n",
            "Epoch 285/500\n",
            "1/1 [==============================] - 0s 25ms/step - loss: 3.7486 - mae: 3.7486\n",
            "Epoch 286/500\n",
            "1/1 [==============================] - 0s 18ms/step - loss: 28.2515 - mae: 28.2515\n",
            "Epoch 287/500\n",
            "1/1 [==============================] - 0s 18ms/step - loss: 48.5203 - mae: 48.5203\n",
            "Epoch 288/500\n",
            "1/1 [==============================] - 0s 21ms/step - loss: 22.0191 - mae: 22.0191\n",
            "Epoch 289/500\n",
            "1/1 [==============================] - 0s 30ms/step - loss: 44.7199 - mae: 44.7199\n",
            "Epoch 290/500\n",
            "1/1 [==============================] - 0s 28ms/step - loss: 46.1019 - mae: 46.1019\n",
            "Epoch 291/500\n",
            "1/1 [==============================] - 0s 29ms/step - loss: 16.0373 - mae: 16.0373\n",
            "Epoch 292/500\n",
            "1/1 [==============================] - 0s 58ms/step - loss: 59.4264 - mae: 59.4264\n",
            "Epoch 293/500\n",
            "1/1 [==============================] - 0s 22ms/step - loss: 43.3615 - mae: 43.3615\n",
            "Epoch 294/500\n",
            "1/1 [==============================] - 0s 42ms/step - loss: 9.2559 - mae: 9.2559\n",
            "Epoch 295/500\n",
            "1/1 [==============================] - 0s 15ms/step - loss: 76.1020 - mae: 76.1020\n",
            "Epoch 296/500\n",
            "1/1 [==============================] - 0s 16ms/step - loss: 40.2556 - mae: 40.2556\n",
            "Epoch 297/500\n",
            "1/1 [==============================] - 0s 46ms/step - loss: 3.7415 - mae: 3.7415\n",
            "Epoch 298/500\n",
            "1/1 [==============================] - 0s 33ms/step - loss: 18.0482 - mae: 18.0482\n",
            "Epoch 299/500\n",
            "1/1 [==============================] - 0s 25ms/step - loss: 54.4317 - mae: 54.4317\n",
            "Epoch 300/500\n",
            "1/1 [==============================] - 0s 22ms/step - loss: 44.2660 - mae: 44.2660\n",
            "Epoch 301/500\n",
            "1/1 [==============================] - 0s 33ms/step - loss: 11.5380 - mae: 11.5380\n",
            "Epoch 302/500\n",
            "1/1 [==============================] - 0s 37ms/step - loss: 70.4391 - mae: 70.4391\n",
            "Epoch 303/500\n",
            "1/1 [==============================] - 0s 32ms/step - loss: 41.2840 - mae: 41.2840\n",
            "Epoch 304/500\n",
            "1/1 [==============================] - 0s 21ms/step - loss: 4.1636 - mae: 4.1636\n",
            "Epoch 305/500\n",
            "1/1 [==============================] - 0s 23ms/step - loss: 70.5579 - mae: 70.5579\n",
            "Epoch 306/500\n",
            "1/1 [==============================] - 0s 13ms/step - loss: 41.2525 - mae: 41.2525\n",
            "Epoch 307/500\n",
            "1/1 [==============================] - 0s 21ms/step - loss: 4.1106 - mae: 4.1106\n",
            "Epoch 308/500\n",
            "1/1 [==============================] - 0s 16ms/step - loss: 70.6779 - mae: 70.6779\n",
            "Epoch 309/500\n",
            "1/1 [==============================] - 0s 21ms/step - loss: 41.2207 - mae: 41.2207\n",
            "Epoch 310/500\n",
            "1/1 [==============================] - 0s 19ms/step - loss: 4.0570 - mae: 4.0570\n",
            "Epoch 311/500\n",
            "1/1 [==============================] - 0s 28ms/step - loss: 70.7993 - mae: 70.7993\n",
            "Epoch 312/500\n",
            "1/1 [==============================] - 0s 22ms/step - loss: 41.1886 - mae: 41.1886\n",
            "Epoch 313/500\n",
            "1/1 [==============================] - 0s 22ms/step - loss: 4.0052 - mae: 4.0052\n",
            "Epoch 314/500\n",
            "1/1 [==============================] - 0s 23ms/step - loss: 54.6900 - mae: 54.6900\n",
            "Epoch 315/500\n",
            "1/1 [==============================] - 0s 36ms/step - loss: 44.1706 - mae: 44.1706\n",
            "Epoch 316/500\n",
            "1/1 [==============================] - 0s 20ms/step - loss: 11.3816 - mae: 11.3816\n",
            "Epoch 317/500\n",
            "1/1 [==============================] - 0s 30ms/step - loss: 70.7320 - mae: 70.7320\n",
            "Epoch 318/500\n",
            "1/1 [==============================] - 0s 20ms/step - loss: 41.1821 - mae: 41.1821\n",
            "Epoch 319/500\n",
            "1/1 [==============================] - 0s 16ms/step - loss: 4.0138 - mae: 4.0138\n",
            "Epoch 320/500\n",
            "1/1 [==============================] - 0s 22ms/step - loss: 70.8573 - mae: 70.8573\n",
            "Epoch 321/500\n",
            "1/1 [==============================] - 0s 25ms/step - loss: 41.1493 - mae: 41.1493\n",
            "Epoch 322/500\n",
            "1/1 [==============================] - 0s 29ms/step - loss: 3.9651 - mae: 3.9651\n",
            "Epoch 323/500\n",
            "1/1 [==============================] - 0s 16ms/step - loss: 54.7483 - mae: 54.7483\n",
            "Epoch 324/500\n",
            "1/1 [==============================] - 0s 16ms/step - loss: 44.1313 - mae: 44.1313\n",
            "Epoch 325/500\n",
            "1/1 [==============================] - 0s 22ms/step - loss: 11.3323 - mae: 11.3323\n",
            "Epoch 326/500\n",
            "1/1 [==============================] - 0s 28ms/step - loss: 70.7980 - mae: 70.7980\n",
            "Epoch 327/500\n",
            "1/1 [==============================] - 0s 17ms/step - loss: 41.1414 - mae: 41.1414\n",
            "Epoch 328/500\n",
            "1/1 [==============================] - 0s 24ms/step - loss: 3.9689 - mae: 3.9689\n",
            "Epoch 329/500\n",
            "1/1 [==============================] - 0s 46ms/step - loss: 54.7008 - mae: 54.7008\n",
            "Epoch 330/500\n",
            "1/1 [==============================] - 0s 26ms/step - loss: 44.1212 - mae: 44.1212\n",
            "Epoch 331/500\n",
            "1/1 [==============================] - 0s 21ms/step - loss: 11.3392 - mae: 11.3392\n",
            "Epoch 332/500\n",
            "1/1 [==============================] - 0s 29ms/step - loss: 70.7441 - mae: 70.7441\n",
            "Epoch 333/500\n",
            "1/1 [==============================] - 0s 24ms/step - loss: 41.1324 - mae: 41.1324\n",
            "Epoch 334/500\n",
            "1/1 [==============================] - 0s 22ms/step - loss: 3.9719 - mae: 3.9719\n",
            "Epoch 335/500\n",
            "1/1 [==============================] - 0s 30ms/step - loss: 70.8758 - mae: 70.8758\n",
            "Epoch 336/500\n",
            "1/1 [==============================] - 0s 15ms/step - loss: 41.0984 - mae: 41.0984\n",
            "Epoch 337/500\n",
            "1/1 [==============================] - 0s 11ms/step - loss: 3.9227 - mae: 3.9227\n",
            "Epoch 338/500\n",
            "1/1 [==============================] - 0s 13ms/step - loss: 54.7765 - mae: 54.7765\n",
            "Epoch 339/500\n",
            "1/1 [==============================] - 0s 19ms/step - loss: 44.0787 - mae: 44.0787\n",
            "Epoch 340/500\n",
            "1/1 [==============================] - 0s 18ms/step - loss: 11.2819 - mae: 11.2819\n",
            "Epoch 341/500\n",
            "1/1 [==============================] - 0s 21ms/step - loss: 70.8298 - mae: 70.8298\n",
            "Epoch 342/500\n",
            "1/1 [==============================] - 0s 26ms/step - loss: 41.0879 - mae: 41.0879\n",
            "Epoch 343/500\n",
            "1/1 [==============================] - 0s 25ms/step - loss: 3.9224 - mae: 3.9224\n",
            "Epoch 344/500\n",
            "1/1 [==============================] - 0s 15ms/step - loss: 54.7408 - mae: 54.7408\n",
            "Epoch 345/500\n",
            "1/1 [==============================] - 0s 17ms/step - loss: 44.0664 - mae: 44.0664\n",
            "Epoch 346/500\n",
            "1/1 [==============================] - 0s 22ms/step - loss: 11.2835 - mae: 11.2835\n",
            "Epoch 347/500\n",
            "1/1 [==============================] - 0s 28ms/step - loss: 70.7892 - mae: 70.7892\n",
            "Epoch 348/500\n",
            "1/1 [==============================] - 0s 22ms/step - loss: 41.0765 - mae: 41.0765\n",
            "Epoch 349/500\n",
            "1/1 [==============================] - 0s 37ms/step - loss: 3.9203 - mae: 3.9203\n",
            "Epoch 350/500\n",
            "1/1 [==============================] - 0s 23ms/step - loss: 54.7098 - mae: 54.7098\n",
            "Epoch 351/500\n",
            "1/1 [==============================] - 0s 19ms/step - loss: 44.0532 - mae: 44.0532\n",
            "Epoch 352/500\n",
            "1/1 [==============================] - 0s 28ms/step - loss: 11.2828 - mae: 11.2828\n",
            "Epoch 353/500\n",
            "1/1 [==============================] - 0s 20ms/step - loss: 70.7539 - mae: 70.7539\n",
            "Epoch 354/500\n",
            "1/1 [==============================] - 0s 18ms/step - loss: 41.0640 - mae: 41.0640\n",
            "Epoch 355/500\n",
            "1/1 [==============================] - 0s 15ms/step - loss: 3.9167 - mae: 3.9167\n",
            "Epoch 356/500\n",
            "1/1 [==============================] - 0s 40ms/step - loss: 54.6835 - mae: 54.6835\n",
            "Epoch 357/500\n",
            "1/1 [==============================] - 0s 56ms/step - loss: 44.0391 - mae: 44.0391\n",
            "Epoch 358/500\n",
            "1/1 [==============================] - 0s 18ms/step - loss: 11.2800 - mae: 11.2800\n",
            "Epoch 359/500\n",
            "1/1 [==============================] - 0s 18ms/step - loss: 70.7240 - mae: 70.7240\n",
            "Epoch 360/500\n",
            "1/1 [==============================] - 0s 22ms/step - loss: 41.0506 - mae: 41.0506\n",
            "Epoch 361/500\n",
            "1/1 [==============================] - 0s 39ms/step - loss: 3.9126 - mae: 3.9126\n",
            "Epoch 362/500\n",
            "1/1 [==============================] - 0s 30ms/step - loss: 70.8673 - mae: 70.8673\n",
            "Epoch 363/500\n",
            "1/1 [==============================] - 0s 33ms/step - loss: 41.0145 - mae: 41.0145\n",
            "Epoch 364/500\n",
            "1/1 [==============================] - 0s 13ms/step - loss: 3.8594 - mae: 3.8594\n",
            "Epoch 365/500\n",
            "1/1 [==============================] - 0s 9ms/step - loss: 54.7904 - mae: 54.7904\n",
            "Epoch 366/500\n",
            "1/1 [==============================] - 0s 17ms/step - loss: 43.9908 - mae: 43.9908\n",
            "Epoch 367/500\n",
            "1/1 [==============================] - 0s 12ms/step - loss: 11.2083 - mae: 11.2083\n",
            "Epoch 368/500\n",
            "1/1 [==============================] - 0s 16ms/step - loss: 70.8453 - mae: 70.8453\n",
            "Epoch 369/500\n",
            "1/1 [==============================] - 0s 43ms/step - loss: 40.9996 - mae: 40.9996\n",
            "Epoch 370/500\n",
            "1/1 [==============================] - 0s 32ms/step - loss: 3.8516 - mae: 3.8516\n",
            "Epoch 371/500\n",
            "1/1 [==============================] - 0s 17ms/step - loss: 54.7758 - mae: 54.7758\n",
            "Epoch 372/500\n",
            "1/1 [==============================] - 0s 16ms/step - loss: 43.9746 - mae: 43.9746\n",
            "Epoch 373/500\n",
            "1/1 [==============================] - 0s 15ms/step - loss: 11.2001 - mae: 11.2001\n",
            "Epoch 374/500\n",
            "1/1 [==============================] - 0s 24ms/step - loss: 70.8286 - mae: 70.8286\n",
            "Epoch 375/500\n",
            "1/1 [==============================] - 0s 18ms/step - loss: 40.9837 - mae: 40.9837\n",
            "Epoch 376/500\n",
            "1/1 [==============================] - 0s 20ms/step - loss: 3.8421 - mae: 3.8421\n",
            "Epoch 377/500\n",
            "1/1 [==============================] - 0s 17ms/step - loss: 54.7659 - mae: 54.7659\n",
            "Epoch 378/500\n",
            "1/1 [==============================] - 0s 18ms/step - loss: 43.9575 - mae: 43.9575\n",
            "Epoch 379/500\n",
            "1/1 [==============================] - 0s 21ms/step - loss: 11.1897 - mae: 11.1897\n",
            "Epoch 380/500\n",
            "1/1 [==============================] - 0s 22ms/step - loss: 70.8172 - mae: 70.8172\n",
            "Epoch 381/500\n",
            "1/1 [==============================] - 0s 15ms/step - loss: 40.9668 - mae: 40.9668\n",
            "Epoch 382/500\n",
            "1/1 [==============================] - 0s 10ms/step - loss: 3.8310 - mae: 3.8310\n",
            "Epoch 383/500\n",
            "1/1 [==============================] - 0s 10ms/step - loss: 54.7606 - mae: 54.7606\n",
            "Epoch 384/500\n",
            "1/1 [==============================] - 0s 9ms/step - loss: 43.9395 - mae: 43.9395\n",
            "Epoch 385/500\n",
            "1/1 [==============================] - 0s 11ms/step - loss: 11.1772 - mae: 11.1772\n",
            "Epoch 386/500\n",
            "1/1 [==============================] - 0s 28ms/step - loss: 70.8111 - mae: 70.8111\n",
            "Epoch 387/500\n",
            "1/1 [==============================] - 0s 26ms/step - loss: 40.9489 - mae: 40.9489\n",
            "Epoch 388/500\n",
            "1/1 [==============================] - 0s 18ms/step - loss: 3.8183 - mae: 3.8183\n",
            "Epoch 389/500\n",
            "1/1 [==============================] - 0s 21ms/step - loss: 54.7600 - mae: 54.7600\n",
            "Epoch 390/500\n",
            "1/1 [==============================] - 0s 29ms/step - loss: 43.9207 - mae: 43.9207\n",
            "Epoch 391/500\n",
            "1/1 [==============================] - 0s 28ms/step - loss: 11.1626 - mae: 11.1626\n",
            "Epoch 392/500\n",
            "1/1 [==============================] - 0s 28ms/step - loss: 70.8104 - mae: 70.8104\n",
            "Epoch 393/500\n",
            "1/1 [==============================] - 0s 30ms/step - loss: 40.9301 - mae: 40.9301\n",
            "Epoch 394/500\n",
            "1/1 [==============================] - 0s 18ms/step - loss: 3.8038 - mae: 3.8038\n",
            "Epoch 395/500\n",
            "1/1 [==============================] - 0s 10ms/step - loss: 54.7641 - mae: 54.7641\n",
            "Epoch 396/500\n",
            "1/1 [==============================] - 0s 18ms/step - loss: 43.9010 - mae: 43.9010\n",
            "Epoch 397/500\n",
            "1/1 [==============================] - 0s 22ms/step - loss: 11.1457 - mae: 11.1457\n",
            "Epoch 398/500\n",
            "1/1 [==============================] - 0s 24ms/step - loss: 70.8150 - mae: 70.8150\n",
            "Epoch 399/500\n",
            "1/1 [==============================] - 0s 29ms/step - loss: 40.9102 - mae: 40.9102\n",
            "Epoch 400/500\n",
            "1/1 [==============================] - 0s 21ms/step - loss: 3.7878 - mae: 3.7878\n",
            "Epoch 401/500\n",
            "1/1 [==============================] - 0s 20ms/step - loss: 54.7729 - mae: 54.7729\n",
            "Epoch 402/500\n",
            "1/1 [==============================] - 0s 30ms/step - loss: 43.8804 - mae: 43.8804\n",
            "Epoch 403/500\n",
            "1/1 [==============================] - 0s 31ms/step - loss: 11.1267 - mae: 11.1267\n",
            "Epoch 404/500\n",
            "1/1 [==============================] - 0s 22ms/step - loss: 70.8248 - mae: 70.8248\n",
            "Epoch 405/500\n",
            "1/1 [==============================] - 0s 23ms/step - loss: 40.8894 - mae: 40.8894\n",
            "Epoch 406/500\n",
            "1/1 [==============================] - 0s 21ms/step - loss: 3.7701 - mae: 3.7701\n",
            "Epoch 407/500\n",
            "1/1 [==============================] - 0s 19ms/step - loss: 54.7864 - mae: 54.7864\n",
            "Epoch 408/500\n",
            "1/1 [==============================] - 0s 23ms/step - loss: 43.8589 - mae: 43.8589\n",
            "Epoch 409/500\n",
            "1/1 [==============================] - 0s 22ms/step - loss: 11.1056 - mae: 11.1056\n",
            "Epoch 410/500\n",
            "1/1 [==============================] - 0s 19ms/step - loss: 70.8400 - mae: 70.8400\n",
            "Epoch 411/500\n",
            "1/1 [==============================] - 0s 21ms/step - loss: 40.8676 - mae: 40.8676\n",
            "Epoch 412/500\n",
            "1/1 [==============================] - 0s 23ms/step - loss: 3.7507 - mae: 3.7507\n",
            "Epoch 413/500\n",
            "1/1 [==============================] - 0s 24ms/step - loss: 54.8044 - mae: 54.8044\n",
            "Epoch 414/500\n",
            "1/1 [==============================] - 0s 18ms/step - loss: 43.8366 - mae: 43.8366\n",
            "Epoch 415/500\n",
            "1/1 [==============================] - 0s 33ms/step - loss: 11.0824 - mae: 11.0824\n",
            "Epoch 416/500\n",
            "1/1 [==============================] - 0s 49ms/step - loss: 70.8604 - mae: 70.8604\n",
            "Epoch 417/500\n",
            "1/1 [==============================] - 0s 24ms/step - loss: 40.8448 - mae: 40.8448\n",
            "Epoch 418/500\n",
            "1/1 [==============================] - 0s 32ms/step - loss: 3.7297 - mae: 3.7297\n",
            "Epoch 419/500\n",
            "1/1 [==============================] - 0s 18ms/step - loss: 54.8271 - mae: 54.8271\n",
            "Epoch 420/500\n",
            "1/1 [==============================] - 0s 16ms/step - loss: 43.8134 - mae: 43.8134\n",
            "Epoch 421/500\n",
            "1/1 [==============================] - 0s 50ms/step - loss: 11.0570 - mae: 11.0570\n",
            "Epoch 422/500\n",
            "1/1 [==============================] - 0s 41ms/step - loss: 70.8860 - mae: 70.8860\n",
            "Epoch 423/500\n",
            "1/1 [==============================] - 0s 32ms/step - loss: 40.8211 - mae: 40.8211\n",
            "Epoch 424/500\n",
            "1/1 [==============================] - 0s 29ms/step - loss: 3.7071 - mae: 3.7071\n",
            "Epoch 425/500\n",
            "1/1 [==============================] - 0s 14ms/step - loss: 54.8545 - mae: 54.8545\n",
            "Epoch 426/500\n",
            "1/1 [==============================] - 0s 17ms/step - loss: 43.7894 - mae: 43.7894\n",
            "Epoch 427/500\n",
            "1/1 [==============================] - 0s 22ms/step - loss: 11.0294 - mae: 11.0294\n",
            "Epoch 428/500\n",
            "1/1 [==============================] - 0s 30ms/step - loss: 70.9170 - mae: 70.9170\n",
            "Epoch 429/500\n",
            "1/1 [==============================] - 0s 19ms/step - loss: 40.7963 - mae: 40.7963\n",
            "Epoch 430/500\n",
            "1/1 [==============================] - 0s 23ms/step - loss: 3.6828 - mae: 3.6828\n",
            "Epoch 431/500\n",
            "1/1 [==============================] - 0s 16ms/step - loss: 54.8865 - mae: 54.8865\n",
            "Epoch 432/500\n",
            "1/1 [==============================] - 0s 20ms/step - loss: 43.7645 - mae: 43.7645\n",
            "Epoch 433/500\n",
            "1/1 [==============================] - 0s 23ms/step - loss: 10.9998 - mae: 10.9998\n",
            "Epoch 434/500\n",
            "1/1 [==============================] - 0s 20ms/step - loss: 70.9531 - mae: 70.9531\n",
            "Epoch 435/500\n",
            "1/1 [==============================] - 0s 23ms/step - loss: 40.7706 - mae: 40.7706\n",
            "Epoch 436/500\n",
            "1/1 [==============================] - 0s 17ms/step - loss: 3.6569 - mae: 3.6569\n",
            "Epoch 437/500\n",
            "1/1 [==============================] - 0s 28ms/step - loss: 54.9230 - mae: 54.9230\n",
            "Epoch 438/500\n",
            "1/1 [==============================] - 0s 21ms/step - loss: 43.7388 - mae: 43.7388\n",
            "Epoch 439/500\n",
            "1/1 [==============================] - 0s 24ms/step - loss: 10.9680 - mae: 10.9680\n",
            "Epoch 440/500\n",
            "1/1 [==============================] - 0s 26ms/step - loss: 70.9945 - mae: 70.9945\n",
            "Epoch 441/500\n",
            "1/1 [==============================] - 0s 18ms/step - loss: 40.7439 - mae: 40.7439\n",
            "Epoch 442/500\n",
            "1/1 [==============================] - 0s 24ms/step - loss: 3.6294 - mae: 3.6294\n",
            "Epoch 443/500\n",
            "1/1 [==============================] - 0s 20ms/step - loss: 54.9642 - mae: 54.9642\n",
            "Epoch 444/500\n",
            "1/1 [==============================] - 0s 24ms/step - loss: 43.7122 - mae: 43.7122\n",
            "Epoch 445/500\n",
            "1/1 [==============================] - 0s 20ms/step - loss: 10.9341 - mae: 10.9341\n",
            "Epoch 446/500\n",
            "1/1 [==============================] - 0s 25ms/step - loss: 71.0412 - mae: 71.0412\n",
            "Epoch 447/500\n",
            "1/1 [==============================] - 0s 21ms/step - loss: 40.7163 - mae: 40.7163\n",
            "Epoch 448/500\n",
            "1/1 [==============================] - 0s 21ms/step - loss: 3.6003 - mae: 3.6003\n",
            "Epoch 449/500\n",
            "1/1 [==============================] - 0s 20ms/step - loss: 55.0101 - mae: 55.0101\n",
            "Epoch 450/500\n",
            "1/1 [==============================] - 0s 24ms/step - loss: 43.6847 - mae: 43.6847\n",
            "Epoch 451/500\n",
            "1/1 [==============================] - 0s 24ms/step - loss: 10.8980 - mae: 10.8980\n",
            "Epoch 452/500\n",
            "1/1 [==============================] - 0s 25ms/step - loss: 71.0930 - mae: 71.0930\n",
            "Epoch 453/500\n",
            "1/1 [==============================] - 0s 19ms/step - loss: 40.6877 - mae: 40.6877\n",
            "Epoch 454/500\n",
            "1/1 [==============================] - 0s 19ms/step - loss: 3.5695 - mae: 3.5695\n",
            "Epoch 455/500\n",
            "1/1 [==============================] - 0s 19ms/step - loss: 55.0605 - mae: 55.0605\n",
            "Epoch 456/500\n",
            "1/1 [==============================] - 0s 16ms/step - loss: 43.6564 - mae: 43.6564\n",
            "Epoch 457/500\n",
            "1/1 [==============================] - 0s 17ms/step - loss: 10.8599 - mae: 10.8599\n",
            "Epoch 458/500\n",
            "1/1 [==============================] - 0s 13ms/step - loss: 71.1501 - mae: 71.1501\n",
            "Epoch 459/500\n",
            "1/1 [==============================] - 0s 10ms/step - loss: 40.6581 - mae: 40.6581\n",
            "Epoch 460/500\n",
            "1/1 [==============================] - 0s 15ms/step - loss: 3.5405 - mae: 3.5405\n",
            "Epoch 461/500\n",
            "1/1 [==============================] - 0s 23ms/step - loss: 40.5964 - mae: 40.5964\n",
            "Epoch 462/500\n",
            "1/1 [==============================] - 0s 14ms/step - loss: 46.3247 - mae: 46.3247\n",
            "Epoch 463/500\n",
            "1/1 [==============================] - 0s 11ms/step - loss: 17.5103 - mae: 17.5103\n",
            "Epoch 464/500\n",
            "1/1 [==============================] - 0s 14ms/step - loss: 54.7448 - mae: 54.7448\n",
            "Epoch 465/500\n",
            "1/1 [==============================] - 0s 34ms/step - loss: 43.6866 - mae: 43.6866\n",
            "Epoch 466/500\n",
            "1/1 [==============================] - 0s 28ms/step - loss: 10.9830 - mae: 10.9830\n",
            "Epoch 467/500\n",
            "1/1 [==============================] - 0s 30ms/step - loss: 70.7918 - mae: 70.7918\n",
            "Epoch 468/500\n",
            "1/1 [==============================] - 0s 33ms/step - loss: 40.6961 - mae: 40.6961\n",
            "Epoch 469/500\n",
            "1/1 [==============================] - 0s 21ms/step - loss: 3.6267 - mae: 3.6267\n",
            "Epoch 470/500\n",
            "1/1 [==============================] - 0s 16ms/step - loss: 54.8070 - mae: 54.8070\n",
            "Epoch 471/500\n",
            "1/1 [==============================] - 0s 20ms/step - loss: 43.6561 - mae: 43.6561\n",
            "Epoch 472/500\n",
            "1/1 [==============================] - 0s 21ms/step - loss: 10.9394 - mae: 10.9394\n",
            "Epoch 473/500\n",
            "1/1 [==============================] - 0s 19ms/step - loss: 70.8622 - mae: 70.8622\n",
            "Epoch 474/500\n",
            "1/1 [==============================] - 0s 22ms/step - loss: 40.6641 - mae: 40.6641\n",
            "Epoch 475/500\n",
            "1/1 [==============================] - 0s 30ms/step - loss: 3.5901 - mae: 3.5901\n",
            "Epoch 476/500\n",
            "1/1 [==============================] - 0s 25ms/step - loss: 54.8738 - mae: 54.8738\n",
            "Epoch 477/500\n",
            "1/1 [==============================] - 0s 21ms/step - loss: 43.6248 - mae: 43.6248\n",
            "Epoch 478/500\n",
            "1/1 [==============================] - 0s 18ms/step - loss: 10.8937 - mae: 10.8937\n",
            "Epoch 479/500\n",
            "1/1 [==============================] - 0s 17ms/step - loss: 70.9380 - mae: 70.9380\n",
            "Epoch 480/500\n",
            "1/1 [==============================] - 0s 26ms/step - loss: 40.6310 - mae: 40.6310\n",
            "Epoch 481/500\n",
            "1/1 [==============================] - 0s 33ms/step - loss: 3.5519 - mae: 3.5519\n",
            "Epoch 482/500\n",
            "1/1 [==============================] - 0s 30ms/step - loss: 54.9452 - mae: 54.9452\n",
            "Epoch 483/500\n",
            "1/1 [==============================] - 0s 25ms/step - loss: 43.5926 - mae: 43.5926\n",
            "Epoch 484/500\n",
            "1/1 [==============================] - 0s 26ms/step - loss: 10.8459 - mae: 10.8459\n",
            "Epoch 485/500\n",
            "1/1 [==============================] - 0s 25ms/step - loss: 71.0188 - mae: 71.0188\n",
            "Epoch 486/500\n",
            "1/1 [==============================] - 0s 20ms/step - loss: 40.5970 - mae: 40.5970\n",
            "Epoch 487/500\n",
            "1/1 [==============================] - 0s 22ms/step - loss: 3.5121 - mae: 3.5121\n",
            "Epoch 488/500\n",
            "1/1 [==============================] - 0s 23ms/step - loss: 55.0211 - mae: 55.0211\n",
            "Epoch 489/500\n",
            "1/1 [==============================] - 0s 20ms/step - loss: 43.5595 - mae: 43.5595\n",
            "Epoch 490/500\n",
            "1/1 [==============================] - 0s 22ms/step - loss: 10.7959 - mae: 10.7959\n",
            "Epoch 491/500\n",
            "1/1 [==============================] - 0s 24ms/step - loss: 71.1049 - mae: 71.1049\n",
            "Epoch 492/500\n",
            "1/1 [==============================] - 0s 26ms/step - loss: 40.5620 - mae: 40.5620\n",
            "Epoch 493/500\n",
            "1/1 [==============================] - 0s 19ms/step - loss: 3.4729 - mae: 3.4729\n",
            "Epoch 494/500\n",
            "1/1 [==============================] - 0s 21ms/step - loss: 40.5979 - mae: 40.5979\n",
            "Epoch 495/500\n",
            "1/1 [==============================] - 0s 22ms/step - loss: 46.2204 - mae: 46.2204\n",
            "Epoch 496/500\n",
            "1/1 [==============================] - 0s 18ms/step - loss: 17.4281 - mae: 17.4281\n",
            "Epoch 497/500\n",
            "1/1 [==============================] - 0s 19ms/step - loss: 54.7452 - mae: 54.7452\n",
            "Epoch 498/500\n",
            "1/1 [==============================] - 0s 17ms/step - loss: 43.5823 - mae: 43.5823\n",
            "Epoch 499/500\n",
            "1/1 [==============================] - 0s 25ms/step - loss: 10.9008 - mae: 10.9008\n",
            "Epoch 500/500\n",
            "1/1 [==============================] - 0s 25ms/step - loss: 70.7916 - mae: 70.7916\n"
          ]
        },
        {
          "output_type": "execute_result",
          "data": {
            "text/plain": [
              "<keras.src.callbacks.History at 0x795516f24be0>"
            ]
          },
          "metadata": {},
          "execution_count": 107
        }
      ]
    },
    {
      "cell_type": "code",
      "source": [
        "y_pred_2 = model_2.predict(x_test)\n",
        "y_pred_2"
      ],
      "metadata": {
        "colab": {
          "base_uri": "https://localhost:8080/"
        },
        "id": "efScTG2tWEBX",
        "outputId": "10c74613-a3ea-4b61-d8bb-058f6bfe899a"
      },
      "execution_count": 108,
      "outputs": [
        {
          "output_type": "stream",
          "name": "stdout",
          "text": [
            "1/1 [==============================] - 0s 159ms/step\n"
          ]
        },
        {
          "output_type": "execute_result",
          "data": {
            "text/plain": [
              "array([[53.669666],\n",
              "       [55.81058 ],\n",
              "       [57.951492],\n",
              "       [60.092403],\n",
              "       [62.233322],\n",
              "       [64.37423 ]], dtype=float32)"
            ]
          },
          "metadata": {},
          "execution_count": 108
        }
      ]
    },
    {
      "cell_type": "code",
      "source": [
        "mae_2 = tf. metrics.mean_absolute_error(y_test,tf.squeeze(y_pred_2))\n",
        "\n",
        "mse_2 =mse(y_test,tf.squeeze(y_pred_2))\n",
        "mae_2,mse_2"
      ],
      "metadata": {
        "colab": {
          "base_uri": "https://localhost:8080/"
        },
        "id": "itWsr_eexs2G",
        "outputId": "49c8576c-635f-47d1-f640-614b7aa844ff"
      },
      "execution_count": 109,
      "outputs": [
        {
          "output_type": "execute_result",
          "data": {
            "text/plain": [
              "(<tf.Tensor: shape=(), dtype=float32, numpy=83.47805>,\n",
              " <tf.Tensor: shape=(), dtype=float32, numpy=6992.4272>)"
            ]
          },
          "metadata": {},
          "execution_count": 109
        }
      ]
    },
    {
      "cell_type": "code",
      "source": [
        "plt.scatter(x_train,y_train),plt.scatter(x_test,y_test),plt.scatter(y_test,y_pred_2)"
      ],
      "metadata": {
        "colab": {
          "base_uri": "https://localhost:8080/",
          "height": 482
        },
        "id": "oHH0U8JoWIGA",
        "outputId": "bd9bdb0d-3c08-4d52-aa34-91df9d15e404"
      },
      "execution_count": 110,
      "outputs": [
        {
          "output_type": "execute_result",
          "data": {
            "text/plain": [
              "(<matplotlib.collections.PathCollection at 0x7955170f51e0>,\n",
              " <matplotlib.collections.PathCollection at 0x7955170f5630>,\n",
              " <matplotlib.collections.PathCollection at 0x7955170f5990>)"
            ]
          },
          "metadata": {},
          "execution_count": 110
        },
        {
          "output_type": "display_data",
          "data": {
            "text/plain": [
              "<Figure size 640x480 with 1 Axes>"
            ],
            "image/png": "[encoded data removed]"
          },
          "metadata": {}
        }
      ]
    },
    {
      "cell_type": "code",
      "source": [
        "## lets compare our model results using a dataframe\n",
        "import pandas as pd\n",
        "model_results = [ [\"model_1\",mae_1.numpy(),mse_1.numpy()],\n",
        "                   [\"model_2\",mae_2.numpy(),mse_2.numpy()]\n",
        "\n",
        "]\n",
        ""
      ],
      "metadata": {
        "id": "XspsuSVPSC5m"
      },
      "execution_count": 111,
      "outputs": []
    },
    {
      "cell_type": "code",
      "source": [
        " results = pd.DataFrame(model_results, columns=[\"model\",\"mae\",\"mse\"])\n",
        " results\n",
        ""
      ],
      "metadata": {
        "colab": {
          "base_uri": "https://localhost:8080/",
          "height": 125
        },
        "id": "b_uW5LmHzgKb",
        "outputId": "eefa7852-c828-4b43-f164-d0d5a882011d"
      },
      "execution_count": 112,
      "outputs": [
        {
          "output_type": "execute_result",
          "data": {
            "text/plain": [
              "     model        mae          mse\n",
              "0  model_1  71.770119  5178.327148\n",
              "1  model_2  83.478050  6992.427246"
            ],
            "text/html": [
              "\n",
              "  <div id=\"df-f68313d2-57a5-4883-801f-1888214e5964\" class=\"colab-df-container\">\n",
              "    <div>\n",
              "<style scoped>\n",
              "    .dataframe tbody tr th:only-of-type {\n",
              "        vertical-align: middle;\n",
              "    }\n",
              "\n",
              "    .dataframe tbody tr th {\n",
              "        vertical-align: top;\n",
              "    }\n",
              "\n",
              "    .dataframe thead th {\n",
              "        text-align: right;\n",
              "    }\n",
              "</style>\n",
              "<table border=\"1\" class=\"dataframe\">\n",
              "  <thead>\n",
              "    <tr style=\"text-align: right;\">\n",
              "      <th></th>\n",
              "      <th>model</th>\n",
              "      <th>mae</th>\n",
              "      <th>mse</th>\n",
              "    </tr>\n",
              "  </thead>\n",
              "  <tbody>\n",
              "    <tr>\n",
              "      <th>0</th>\n",
              "      <td>model_1</td>\n",
              "      <td>71.770119</td>\n",
              "      <td>5178.327148</td>\n",
              "    </tr>\n",
              "    <tr>\n",
              "      <th>1</th>\n",
              "      <td>model_2</td>\n",
              "      <td>83.478050</td>\n",
              "      <td>6992.427246</td>\n",
              "    </tr>\n",
              "  </tbody>\n",
              "</table>\n",
              "</div>\n",
              "    <div class=\"colab-df-buttons\">\n",
              "\n",
              "  <div class=\"colab-df-container\">\n",
              "    <button class=\"colab-df-convert\" onclick=\"convertToInteractive('df-f68313d2-57a5-4883-801f-1888214e5964')\"\n",
              "            title=\"Convert this dataframe to an interactive table.\"\n",
              "            style=\"display:none;\">\n",
              "\n",
              "  <svg xmlns=\"http://www.w3.org/2000/svg\" height=\"24px\" viewBox=\"0 -960 960 960\">\n",
              "    <path d=\"M120-120v-720h720v720H120Zm60-500h600v-160H180v160Zm220 220h160v-160H400v160Zm0 220h160v-160H400v160ZM180-400h160v-160H180v160Zm440 0h160v-160H620v160ZM180-180h160v-160H180v160Zm440 0h160v-160H620v160Z\"/>\n",
              "  </svg>\n",
              "    </button>\n",
              "\n",
              "  <style>\n",
              "    .colab-df-container {\n",
              "      display:flex;\n",
              "      gap: 12px;\n",
              "    }\n",
              "\n",
              "    .colab-df-convert {\n",
              "      background-color: #E8F0FE;\n",
              "      border: none;\n",
              "      border-radius: 50%;\n",
              "      cursor: pointer;\n",
              "      display: none;\n",
              "      fill: #1967D2;\n",
              "      height: 32px;\n",
              "      padding: 0 0 0 0;\n",
              "      width: 32px;\n",
              "    }\n",
              "\n",
              "    .colab-df-convert:hover {\n",
              "      background-color: #E2EBFA;\n",
              "      box-shadow: 0px 1px 2px rgba(60, 64, 67, 0.3), 0px 1px 3px 1px rgba(60, 64, 67, 0.15);\n",
              "      fill: #174EA6;\n",
              "    }\n",
              "\n",
              "    .colab-df-buttons div {\n",
              "      margin-bottom: 4px;\n",
              "    }\n",
              "\n",
              "    [theme=dark] .colab-df-convert {\n",
              "      background-color: #3B4455;\n",
              "      fill: #D2E3FC;\n",
              "    }\n",
              "\n",
              "    [theme=dark] .colab-df-convert:hover {\n",
              "      background-color: #434B5C;\n",
              "      box-shadow: 0px 1px 3px 1px rgba(0, 0, 0, 0.15);\n",
              "      filter: drop-shadow(0px 1px 2px rgba(0, 0, 0, 0.3));\n",
              "      fill: #FFFFFF;\n",
              "    }\n",
              "  </style>\n",
              "\n",
              "    <script>\n",
              "      const buttonEl =\n",
              "        document.querySelector('#df-f68313d2-57a5-4883-801f-1888214e5964 button.colab-df-convert');\n",
              "      buttonEl.style.display =\n",
              "        google.colab.kernel.accessAllowed ? 'block' : 'none';\n",
              "\n",
              "      async function convertToInteractive(key) {\n",
              "        const element = document.querySelector('#df-f68313d2-57a5-4883-801f-1888214e5964');\n",
              "        const dataTable =\n",
              "          await google.colab.kernel.invokeFunction('convertToInteractive',\n",
              "                                                    [key], {});\n",
              "        if (!dataTable) return;\n",
              "\n",
              "        const docLinkHtml = 'Like what you see? Visit the ' +\n",
              "          '<a target=\"_blank\" href=https://colab.research.google.com/notebooks/data_table.ipynb>data table notebook</a>'\n",
              "          + ' to learn more about interactive tables.';\n",
              "        element.innerHTML = '';\n",
              "        dataTable['output_type'] = 'display_data';\n",
              "        await google.colab.output.renderOutput(dataTable, element);\n",
              "        const docLink = document.createElement('div');\n",
              "        docLink.innerHTML = docLinkHtml;\n",
              "        element.appendChild(docLink);\n",
              "      }\n",
              "    </script>\n",
              "  </div>\n",
              "\n",
              "\n",
              "<div id=\"df-523a1c04-6bbd-4c3b-8087-bb5b8891edd4\">\n",
              "  <button class=\"colab-df-quickchart\" onclick=\"quickchart('df-523a1c04-6bbd-4c3b-8087-bb5b8891edd4')\"\n",
              "            title=\"Suggest charts\"\n",
              "            style=\"display:none;\">\n",
              "\n",
              "<svg xmlns=\"http://www.w3.org/2000/svg\" height=\"24px\"viewBox=\"0 0 24 24\"\n",
              "     width=\"24px\">\n",
              "    <g>\n",
              "        <path d=\"M19 3H5c-1.1 0-2 .9-2 2v14c0 1.1.9 2 2 2h14c1.1 0 2-.9 2-2V5c0-1.1-.9-2-2-2zM9 17H7v-7h2v7zm4 0h-2V7h2v10zm4 0h-2v-4h2v4z\"/>\n",
              "    </g>\n",
              "</svg>\n",
              "  </button>\n",
              "\n",
              "<style>\n",
              "  .colab-df-quickchart {\n",
              "      --bg-color: #E8F0FE;\n",
              "      --fill-color: #1967D2;\n",
              "      --hover-bg-color: #E2EBFA;\n",
              "      --hover-fill-color: #174EA6;\n",
              "      --disabled-fill-color: #AAA;\n",
              "      --disabled-bg-color: #DDD;\n",
              "  }\n",
              "\n",
              "  [theme=dark] .colab-df-quickchart {\n",
              "      --bg-color: #3B4455;\n",
              "      --fill-color: #D2E3FC;\n",
              "      --hover-bg-color: #434B5C;\n",
              "      --hover-fill-color: #FFFFFF;\n",
              "      --disabled-bg-color: #3B4455;\n",
              "      --disabled-fill-color: #666;\n",
              "  }\n",
              "\n",
              "  .colab-df-quickchart {\n",
              "    background-color: var(--bg-color);\n",
              "    border: none;\n",
              "    border-radius: 50%;\n",
              "    cursor: pointer;\n",
              "    display: none;\n",
              "    fill: var(--fill-color);\n",
              "    height: 32px;\n",
              "    padding: 0;\n",
              "    width: 32px;\n",
              "  }\n",
              "\n",
              "  .colab-df-quickchart:hover {\n",
              "    background-color: var(--hover-bg-color);\n",
              "    box-shadow: 0 1px 2px rgba(60, 64, 67, 0.3), 0 1px 3px 1px rgba(60, 64, 67, 0.15);\n",
              "    fill: var(--button-hover-fill-color);\n",
              "  }\n",
              "\n",
              "  .colab-df-quickchart-complete:disabled,\n",
              "  .colab-df-quickchart-complete:disabled:hover {\n",
              "    background-color: var(--disabled-bg-color);\n",
              "    fill: var(--disabled-fill-color);\n",
              "    box-shadow: none;\n",
              "  }\n",
              "\n",
              "  .colab-df-spinner {\n",
              "    border: 2px solid var(--fill-color);\n",
              "    border-color: transparent;\n",
              "    border-bottom-color: var(--fill-color);\n",
              "    animation:\n",
              "      spin 1s steps(1) infinite;\n",
              "  }\n",
              "\n",
              "  @keyframes spin {\n",
              "    0% {\n",
              "      border-color: transparent;\n",
              "      border-bottom-color: var(--fill-color);\n",
              "      border-left-color: var(--fill-color);\n",
              "    }\n",
              "    20% {\n",
              "      border-color: transparent;\n",
              "      border-left-color: var(--fill-color);\n",
              "      border-top-color: var(--fill-color);\n",
              "    }\n",
              "    30% {\n",
              "      border-color: transparent;\n",
              "      border-left-color: var(--fill-color);\n",
              "      border-top-color: var(--fill-color);\n",
              "      border-right-color: var(--fill-color);\n",
              "    }\n",
              "    40% {\n",
              "      border-color: transparent;\n",
              "      border-right-color: var(--fill-color);\n",
              "      border-top-color: var(--fill-color);\n",
              "    }\n",
              "    60% {\n",
              "      border-color: transparent;\n",
              "      border-right-color: var(--fill-color);\n",
              "    }\n",
              "    80% {\n",
              "      border-color: transparent;\n",
              "      border-right-color: var(--fill-color);\n",
              "      border-bottom-color: var(--fill-color);\n",
              "    }\n",
              "    90% {\n",
              "      border-color: transparent;\n",
              "      border-bottom-color: var(--fill-color);\n",
              "    }\n",
              "  }\n",
              "</style>\n",
              "\n",
              "  <script>\n",
              "    async function quickchart(key) {\n",
              "      const quickchartButtonEl =\n",
              "        document.querySelector('#' + key + ' button');\n",
              "      quickchartButtonEl.disabled = true;  // To prevent multiple clicks.\n",
              "      quickchartButtonEl.classList.add('colab-df-spinner');\n",
              "      try {\n",
              "        const charts = await google.colab.kernel.invokeFunction(\n",
              "            'suggestCharts', [key], {});\n",
              "      } catch (error) {\n",
              "        console.error('Error during call to suggestCharts:', error);\n",
              "      }\n",
              "      quickchartButtonEl.classList.remove('colab-df-spinner');\n",
              "      quickchartButtonEl.classList.add('colab-df-quickchart-complete');\n",
              "    }\n",
              "    (() => {\n",
              "      let quickchartButtonEl =\n",
              "        document.querySelector('#df-523a1c04-6bbd-4c3b-8087-bb5b8891edd4 button');\n",
              "      quickchartButtonEl.style.display =\n",
              "        google.colab.kernel.accessAllowed ? 'block' : 'none';\n",
              "    })();\n",
              "  </script>\n",
              "</div>\n",
              "\n",
              "  <div id=\"id_36b720ed-4109-425a-8259-d0aaec428271\">\n",
              "    <style>\n",
              "      .colab-df-generate {\n",
              "        background-color: #E8F0FE;\n",
              "        border: none;\n",
              "        border-radius: 50%;\n",
              "        cursor: pointer;\n",
              "        display: none;\n",
              "        fill: #1967D2;\n",
              "        height: 32px;\n",
              "        padding: 0 0 0 0;\n",
              "        width: 32px;\n",
              "      }\n",
              "\n",
              "      .colab-df-generate:hover {\n",
              "        background-color: #E2EBFA;\n",
              "        box-shadow: 0px 1px 2px rgba(60, 64, 67, 0.3), 0px 1px 3px 1px rgba(60, 64, 67, 0.15);\n",
              "        fill: #174EA6;\n",
              "      }\n",
              "\n",
              "      [theme=dark] .colab-df-generate {\n",
              "        background-color: #3B4455;\n",
              "        fill: #D2E3FC;\n",
              "      }\n",
              "\n",
              "      [theme=dark] .colab-df-generate:hover {\n",
              "        background-color: #434B5C;\n",
              "        box-shadow: 0px 1px 3px 1px rgba(0, 0, 0, 0.15);\n",
              "        filter: drop-shadow(0px 1px 2px rgba(0, 0, 0, 0.3));\n",
              "        fill: #FFFFFF;\n",
              "      }\n",
              "    </style>\n",
              "    <button class=\"colab-df-generate\" onclick=\"generateWithVariable('results')\"\n",
              "            title=\"Generate code using this dataframe.\"\n",
              "            style=\"display:none;\">\n",
              "\n",
              "  <svg xmlns=\"http://www.w3.org/2000/svg\" height=\"24px\"viewBox=\"0 0 24 24\"\n",
              "       width=\"24px\">\n",
              "    <path d=\"M7,19H8.4L18.45,9,17,7.55,7,17.6ZM5,21V16.75L18.45,3.32a2,2,0,0,1,2.83,0l1.4,1.43a1.91,1.91,0,0,1,.58,1.4,1.91,1.91,0,0,1-.58,1.4L9.25,21ZM18.45,9,17,7.55Zm-12,3A5.31,5.31,0,0,0,4.9,8.1,5.31,5.31,0,0,0,1,6.5,5.31,5.31,0,0,0,4.9,4.9,5.31,5.31,0,0,0,6.5,1,5.31,5.31,0,0,0,8.1,4.9,5.31,5.31,0,0,0,12,6.5,5.46,5.46,0,0,0,6.5,12Z\"/>\n",
              "  </svg>\n",
              "    </button>\n",
              "    <script>\n",
              "      (() => {\n",
              "      const buttonEl =\n",
              "        document.querySelector('#id_36b720ed-4109-425a-8259-d0aaec428271 button.colab-df-generate');\n",
              "      buttonEl.style.display =\n",
              "        google.colab.kernel.accessAllowed ? 'block' : 'none';\n",
              "\n",
              "      buttonEl.onclick = () => {\n",
              "        google.colab.notebook.generateWithVariable('results');\n",
              "      }\n",
              "      })();\n",
              "    </script>\n",
              "  </div>\n",
              "\n",
              "    </div>\n",
              "  </div>\n"
            ]
          },
          "metadata": {},
          "execution_count": 112
        }
      ]
    },
    {
      "cell_type": "markdown",
      "source": [
        "saving our models\n",
        "\n",
        "\n",
        "1) The saved model format\n",
        "\n",
        "\n",
        "2) The HDF5 format\n",
        "\n",
        "\n"
      ],
      "metadata": {
        "id": "yrQX_hdL121V"
      }
    },
    {
      "cell_type": "code",
      "source": [
        "model_2.save(\"best_model_tillnow\")"
      ],
      "metadata": {
        "id": "qD-keDdK2CxN"
      },
      "execution_count": 116,
      "outputs": []
    },
    {
      "cell_type": "markdown",
      "source": [
        "**Now we will Load the saved model **"
      ],
      "metadata": {
        "id": "UQ5AYN62Lfxg"
      }
    },
    {
      "cell_type": "code",
      "source": [
        "saved_model = tf.keras.models.load_model(\"/content/best_model_tillnow\")\n",
        "saved_model.summary()"
      ],
      "metadata": {
        "colab": {
          "base_uri": "https://localhost:8080/"
        },
        "id": "yE7ltSulMpbu",
        "outputId": "8d046b53-034f-4b9c-ad5b-188adbf50f6c"
      },
      "execution_count": 119,
      "outputs": [
        {
          "output_type": "stream",
          "name": "stdout",
          "text": [
            "Model: \"sequential_13\"\n",
            "_________________________________________________________________\n",
            " Layer (type)                Output Shape              Param #   \n",
            "=================================================================\n",
            " dense_22 (Dense)            (None, 10)                20        \n",
            "                                                                 \n",
            " dense_23 (Dense)            (None, 1)                 11        \n",
            "                                                                 \n",
            "=================================================================\n",
            "Total params: 31 (124.00 Byte)\n",
            "Trainable params: 31 (124.00 Byte)\n",
            "Non-trainable params: 0 (0.00 Byte)\n",
            "_________________________________________________________________\n"
          ]
        }
      ]
    },
    {
      "cell_type": "code",
      "source": [
        "model_2.summary()"
      ],
      "metadata": {
        "colab": {
          "base_uri": "https://localhost:8080/"
        },
        "id": "AqEaLFqUM6fn",
        "outputId": "9c607707-f946-4e62-987f-b496702cb327"
      },
      "execution_count": 120,
      "outputs": [
        {
          "output_type": "stream",
          "name": "stdout",
          "text": [
            "Model: \"sequential_13\"\n",
            "_________________________________________________________________\n",
            " Layer (type)                Output Shape              Param #   \n",
            "=================================================================\n",
            " dense_22 (Dense)            (None, 10)                20        \n",
            "                                                                 \n",
            " dense_23 (Dense)            (None, 1)                 11        \n",
            "                                                                 \n",
            "=================================================================\n",
            "Total params: 31 (124.00 Byte)\n",
            "Trainable params: 31 (124.00 Byte)\n",
            "Non-trainable params: 0 (0.00 Byte)\n",
            "_________________________________________________________________\n"
          ]
        }
      ]
    },
    {
      "cell_type": "code",
      "source": [
        "y_pred_11 = saved_model.predict(x_test)\n",
        "y_pred_22 = model_2.predict(x_test)\n",
        "y_pred_11 == y_pred_22"
      ],
      "metadata": {
        "colab": {
          "base_uri": "https://localhost:8080/"
        },
        "id": "yhmtmwUxM95z",
        "outputId": "e94d7c79-c6e9-48f6-dee7-0359796bbcdb"
      },
      "execution_count": 130,
      "outputs": [
        {
          "output_type": "stream",
          "name": "stdout",
          "text": [
            "1/1 [==============================] - 0s 20ms/step\n",
            "1/1 [==============================] - 0s 19ms/step\n"
          ]
        },
        {
          "output_type": "execute_result",
          "data": {
            "text/plain": [
              "array([[ True],\n",
              "       [ True],\n",
              "       [ True],\n",
              "       [ True],\n",
              "       [ True],\n",
              "       [ True]])"
            ]
          },
          "metadata": {},
          "execution_count": 130
        }
      ]
    }
  ]
}